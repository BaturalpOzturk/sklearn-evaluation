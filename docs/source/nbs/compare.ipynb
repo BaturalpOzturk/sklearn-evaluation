{
 "cells": [
  {
   "cell_type": "markdown",
   "id": "7f8a2469",
   "metadata": {},
   "source": [
    "# Comparing classifiers\n",
    "\n",
    "*Added in sklearn-evaluation version 0.7.2*\n",
    "\n",
    "Learn how to easily compare confusion matrices from different models.\n",
    "\n",
    "- Compare two models by plotting all values: `cm_1 + cm_2`\n",
    "- Compare the performance between two models: `cm_1 - cm_2`\n",
    "\n",
    "Note that only `ConfusionMatrix` has been implemented, if you want us to implement other plots, let us know by sharing your feedback in our [community.](https://ploomber.io/community)"
   ]
  },
  {
   "cell_type": "code",
   "execution_count": null,
   "id": "d5cf0970",
   "metadata": {},
   "outputs": [],
   "source": [
    "import matplotlib\n",
    "from sklearn import datasets\n",
    "from sklearn.ensemble import RandomForestClassifier\n",
    "from sklearn.model_selection import train_test_split\n",
    "from sklearn.tree import DecisionTreeClassifier\n",
    "from sklearn_evaluation import plot"
   ]
  },
  {
   "cell_type": "code",
   "execution_count": null,
   "id": "38c44e5e",
   "metadata": {},
   "outputs": [],
   "source": [
    "matplotlib.rcParams[\"figure.figsize\"] = (7, 7)\n",
    "matplotlib.rcParams[\"font.size\"] = 20"
   ]
  },
  {
   "cell_type": "code",
   "execution_count": null,
   "id": "a8e5b6a2",
   "metadata": {},
   "outputs": [],
   "source": [
    "# get training and testing data\n",
    "X, y = datasets.make_classification(\n",
    "    1000, 20, n_informative=10, class_sep=0.80, n_classes=3, random_state=0\n",
    ")\n",
    "\n",
    "X_train, X_test, y_train, y_test = train_test_split(X, y, test_size=0.2)\n",
    "\n",
    "\n",
    "def fit_and_plot(est):\n",
    "    \"\"\"Fit a model and return a confusion matrix\n",
    "    \"\"\"\n",
    "    est.fit(X_train, y_train)\n",
    "    y_pred = est.predict(X_test)\n",
    "    return plot.ConfusionMatrix(y_test, y_pred, normalize=False)\n",
    "\n",
    "\n",
    "# fit decision tree and random forest, return confusion matrices\n",
    "tree, forest = [\n",
    "    fit_and_plot(est) for est in [DecisionTreeClassifier(), RandomForestClassifier()]\n",
    "]"
   ]
  },
  {
   "cell_type": "markdown",
   "id": "6df41b0d",
   "metadata": {},
   "source": [
    "## Confusion matrices\n",
    "\n",
    "### Decision tree"
   ]
  },
  {
   "cell_type": "code",
   "execution_count": null,
   "id": "0396a3cf",
   "metadata": {},
   "outputs": [],
   "source": [
    "tree"
   ]
  },
  {
   "cell_type": "markdown",
   "id": "f64e4841",
   "metadata": {},
   "source": [
    "### Random forest"
   ]
  },
  {
   "cell_type": "code",
   "execution_count": null,
   "id": "f77e9d64",
   "metadata": {},
   "outputs": [],
   "source": [
    "forest"
   ]
  },
  {
   "cell_type": "markdown",
   "id": "a8b9775e",
   "metadata": {},
   "source": [
    "## Compare decision tree and random forest"
   ]
  },
  {
   "cell_type": "code",
   "execution_count": null,
   "id": "e6845b1d",
   "metadata": {},
   "outputs": [],
   "source": [
    "tree + forest"
   ]
  },
  {
   "cell_type": "markdown",
   "id": "e02aae89",
   "metadata": {},
   "source": [
    "## How better is the random forest than the tree?"
   ]
  },
  {
   "cell_type": "code",
   "execution_count": null,
   "id": "2298aad6",
   "metadata": {},
   "outputs": [],
   "source": [
    "forest - tree"
   ]
  }
 ],
 "metadata": {
  "jupytext": {
   "cell_metadata_filter": "-all",
   "main_language": "python",
   "notebook_metadata_filter": "-all"
  }
 },
 "nbformat": 4,
 "nbformat_minor": 5
}
