{
 "cells": [
  {
   "cell_type": "markdown",
   "id": "ec6444d2",
   "metadata": {},
   "source": [
    "# Tracking Machine Learning experiments\n",
    "\n",
    "`SQLiteTracker` provides a simple yet powerful way to track ML experiments using a SQLite database."
   ]
  },
  {
   "cell_type": "code",
   "execution_count": null,
   "id": "8151171e",
   "metadata": {},
   "outputs": [],
   "source": [
    "from sklearn_evaluation import SQLiteTracker\n",
    "\n",
    "from sklearn.datasets import load_iris\n",
    "from sklearn.ensemble import RandomForestRegressor\n",
    "from sklearn.linear_model import LinearRegression, Lasso\n",
    "from sklearn.svm import SVR\n",
    "from sklearn.model_selection import train_test_split\n",
    "from sklearn.metrics import mean_squared_error"
   ]
  },
  {
   "cell_type": "code",
   "execution_count": null,
   "id": "7466e256",
   "metadata": {
    "tags": [
     "parameters"
    ]
   },
   "outputs": [],
   "source": [
    "tracker = SQLiteTracker('my_experiments.db')"
   ]
  },
  {
   "cell_type": "code",
   "execution_count": null,
   "id": "9765fe85",
   "metadata": {},
   "outputs": [],
   "source": [
    "iris = load_iris(as_frame=True)\n",
    "X, y = iris['data'], iris['target']\n",
    "X_train, X_test, y_train, y_test = train_test_split(X, y, test_size=0.33, random_state=42)\n",
    "\n",
    "models = [RandomForestRegressor(), LinearRegression(), Lasso()]"
   ]
  },
  {
   "cell_type": "code",
   "execution_count": null,
   "id": "d11410ed",
   "metadata": {},
   "outputs": [],
   "source": [
    "for m in models:\n",
    "    model = type(m).__name__\n",
    "    print(f'Fitting {model}')\n",
    "\n",
    "    # .new() returns a uuid and creates an entry in the db\n",
    "    uuid = tracker.new()\n",
    "    m.fit(X_train, y_train)\n",
    "    y_pred = m.predict(X_test)\n",
    "    mse = mean_squared_error(y_test, y_pred)\n",
    "\n",
    "    # add data with the .update(uuid, {'param': 'value'}) method\n",
    "    tracker.update(uuid, {'mse': mse, 'model': model, **m.get_params()})"
   ]
  },
  {
   "cell_type": "markdown",
   "id": "be14ec96",
   "metadata": {},
   "source": [
    "Or use `.insert(uuid, params)` to supply your own ID:"
   ]
  },
  {
   "cell_type": "code",
   "execution_count": null,
   "id": "cb10623f",
   "metadata": {},
   "outputs": [],
   "source": [
    "svr = SVR()\n",
    "svr.fit(X_train, y_train)\n",
    "y_pred = svr.predict(X_test)\n",
    "mse = mean_squared_error(y_test, y_pred)\n",
    "\n",
    "tracker.insert('my_uuid', {'mse': mse, 'model': type(svr).__name__, **svr.get_params()})"
   ]
  },
  {
   "cell_type": "markdown",
   "id": "d8842081",
   "metadata": {},
   "source": [
    "`tracker` shows last experiments by default:"
   ]
  },
  {
   "cell_type": "code",
   "execution_count": null,
   "id": "46b83bc2",
   "metadata": {},
   "outputs": [],
   "source": [
    "tracker"
   ]
  },
  {
   "cell_type": "markdown",
   "id": "5f7e587e",
   "metadata": {},
   "source": [
    "## Querying experiments"
   ]
  },
  {
   "cell_type": "code",
   "execution_count": null,
   "id": "c8427dae",
   "metadata": {},
   "outputs": [],
   "source": [
    "ordered = tracker.query(\"\"\"\n",
    "SELECT uuid,\n",
    "       json_extract(parameters, '$.model') AS model,\n",
    "       json_extract(parameters, '$.mse') AS mse\n",
    "FROM experiments\n",
    "ORDER BY json_extract(parameters, '$.mse') ASC\n",
    "\"\"\")\n",
    "ordered"
   ]
  },
  {
   "cell_type": "markdown",
   "id": "9bc8ab72",
   "metadata": {},
   "source": [
    "The query method returns a data frame with \"uuid\" as the index:"
   ]
  },
  {
   "cell_type": "code",
   "execution_count": null,
   "id": "c68efe06",
   "metadata": {},
   "outputs": [],
   "source": [
    "type(ordered)"
   ]
  },
  {
   "cell_type": "markdown",
   "id": "a01e0c3a",
   "metadata": {},
   "source": [
    "## Adding comments\n"
   ]
  },
  {
   "cell_type": "code",
   "execution_count": null,
   "id": "1136458e",
   "metadata": {},
   "outputs": [],
   "source": [
    "tracker.comment(ordered.index[0], 'Best performing experiment')"
   ]
  },
  {
   "cell_type": "markdown",
   "id": "f1ade5d0",
   "metadata": {},
   "source": [
    "User `tracker[uuid]` to get a single experiment:"
   ]
  },
  {
   "cell_type": "code",
   "execution_count": null,
   "id": "5b4ead2a",
   "metadata": {},
   "outputs": [],
   "source": [
    "tracker[ordered.index[0]]"
   ]
  },
  {
   "cell_type": "markdown",
   "id": "401bede6",
   "metadata": {},
   "source": [
    "## Getting recent experiments\n",
    "\n",
    "The recent method also returns a data frame:"
   ]
  },
  {
   "cell_type": "code",
   "execution_count": null,
   "id": "bca2c0f3",
   "metadata": {},
   "outputs": [],
   "source": [
    "df = tracker.recent()\n",
    "df"
   ]
  },
  {
   "cell_type": "markdown",
   "id": "67b327b7",
   "metadata": {},
   "source": [
    "Pass `normalize=True` to convert the nested JSON dictionary into columns:"
   ]
  },
  {
   "cell_type": "code",
   "execution_count": null,
   "id": "d8edcda3",
   "metadata": {},
   "outputs": [],
   "source": [
    "df = tracker.recent(normalize=True)\n",
    "df"
   ]
  },
  {
   "cell_type": "code",
   "execution_count": null,
   "id": "aeeae599",
   "metadata": {},
   "outputs": [],
   "source": [
    "# delete our example database\n",
    "from pathlib import Path\n",
    "Path('my_experiments.db').unlink()"
   ]
  }
 ],
 "metadata": {
  "jupytext": {
   "cell_metadata_filter": "tags,-all",
   "main_language": "python",
   "notebook_metadata_filter": "-all"
  }
 },
 "nbformat": 4,
 "nbformat_minor": 5
}
