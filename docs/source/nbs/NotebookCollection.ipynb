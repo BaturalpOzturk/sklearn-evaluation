{
 "cells": [
  {
   "cell_type": "markdown",
   "id": "ecd0ef85",
   "metadata": {},
   "source": [
    "# Analyzing results from notebooks\n",
    "\n",
    "The `.ipynb` format is capable of storing tables and charts in a standalone file. This makes it a great choice for model evaluation reports. `NotebookCollection` allows you to retrieve results from previously executed notebooks to compare them."
   ]
  },
  {
   "cell_type": "code",
   "execution_count": null,
   "id": "ee5f846b",
   "metadata": {},
   "outputs": [],
   "source": [
    "import papermill as pm\n",
    "import jupytext\n",
    "\n",
    "from sklearn_evaluation import NotebookCollection"
   ]
  },
  {
   "cell_type": "markdown",
   "id": "cbf9085b",
   "metadata": {},
   "source": [
    "Let's first generate a few notebooks, we have a `train.py` script that trains a single model, let's convert it to a jupyter notebook:"
   ]
  },
  {
   "cell_type": "code",
   "execution_count": null,
   "id": "1af8e58d",
   "metadata": {},
   "outputs": [],
   "source": [
    "nb = jupytext.read('train.py')\n",
    "jupytext.write(nb, 'train.ipynb')"
   ]
  },
  {
   "cell_type": "markdown",
   "id": "d864e0e3",
   "metadata": {},
   "source": [
    "We use papermill to execute the notebook with different parameters, we'll train 4 models: 2 random forest, a linear regression and a support vector regression:"
   ]
  },
  {
   "cell_type": "code",
   "execution_count": null,
   "id": "001fc162",
   "metadata": {},
   "outputs": [],
   "source": [
    "# models with their corresponding parameters\n",
    "params = [{\n",
    "    'model': 'sklearn.ensemble.RandomForestRegressor',\n",
    "    'params': {\n",
    "        'n_estimators': 50\n",
    "    }\n",
    "}, {\n",
    "    'model': 'sklearn.ensemble.RandomForestRegressor',\n",
    "    'params': {\n",
    "        'n_estimators': 100\n",
    "    }\n",
    "}, {\n",
    "    'model': 'sklearn.linear_model.LinearRegression',\n",
    "    'params': {\n",
    "        'normalize': True\n",
    "    }\n",
    "}, {\n",
    "    'model': 'sklearn.svm.LinearSVR',\n",
    "    'params': {}\n",
    "}]\n",
    "\n",
    "# ids to identify each experiment\n",
    "ids = [\n",
    "    'random_forest_1', 'random_forest_2', 'linear_regression',\n",
    "    'support_vector_regression'\n",
    "]\n",
    "\n",
    "# output files\n",
    "files = [f'{i}.ipynb' for i in ids]\n",
    "\n",
    "# execute notebooks using papermill\n",
    "for f, p in zip(files, params):\n",
    "    pm.execute_notebook('train.ipynb', output_path=f, parameters=p)"
   ]
  },
  {
   "cell_type": "markdown",
   "id": "769b8f17",
   "metadata": {},
   "source": [
    "To use `NotebookCollection`, we pass a a list of paths, and optionally, ids for each notebook (uses paths by default).\n",
    "\n",
    "The only requirement is that cells whose output we want to extract must have tags, each tag then becomes a key in the notebook collection. For instructions on adding tags, [see this](https://papermill.readthedocs.io/en/latest/usage-parameterize.html).\n",
    "\n",
    "Extracted tables add colors to certain cells to identify the best and worst metrics. By default, it assumes that metrics are errors (smaller is better). If you are using scores (larger is better), pass `scores=True`, if you have both, pass a list of scores:"
   ]
  },
  {
   "cell_type": "code",
   "execution_count": null,
   "id": "65f58e28",
   "metadata": {},
   "outputs": [],
   "source": [
    "nbs = NotebookCollection(paths=files, ids=ids, scores=['r2'])"
   ]
  },
  {
   "cell_type": "markdown",
   "id": "9295bdc8",
   "metadata": {},
   "source": [
    "To get a list of tags available:"
   ]
  },
  {
   "cell_type": "code",
   "execution_count": null,
   "id": "012971ec",
   "metadata": {},
   "outputs": [],
   "source": [
    "list(nbs)"
   ]
  },
  {
   "cell_type": "markdown",
   "id": "9b498b68",
   "metadata": {},
   "source": [
    "`model_params` contains a dictionary with model parameters, let's get them (click on the tabs to switch):"
   ]
  },
  {
   "cell_type": "code",
   "execution_count": null,
   "id": "3fa007eb",
   "metadata": {},
   "outputs": [],
   "source": [
    "# pro-tip: then typing the tag, press the \"Tab\" key for autocompletion!\n",
    "nbs['model_params']"
   ]
  },
  {
   "cell_type": "markdown",
   "id": "e3673e8f",
   "metadata": {},
   "source": [
    "`plot` has a `y_true` vs `y_pred` chart:"
   ]
  },
  {
   "cell_type": "code",
   "execution_count": null,
   "id": "b7e2f2c7",
   "metadata": {},
   "outputs": [],
   "source": [
    "nbs['plot']"
   ]
  },
  {
   "cell_type": "markdown",
   "id": "0926d791",
   "metadata": {},
   "source": [
    "On each notebook, `metrics` outputs a data frame with a single row with mean absolute error (mae) and mean squared error (mse) as columns.\n",
    "\n",
    "For single-row tables, a \"Compare\" tab shows all results at once:"
   ]
  },
  {
   "cell_type": "code",
   "execution_count": null,
   "id": "e0376df8",
   "metadata": {},
   "outputs": [],
   "source": [
    "nbs['metrics']"
   ]
  },
  {
   "cell_type": "markdown",
   "id": "bdb96e95",
   "metadata": {},
   "source": [
    "We can see that the second random forest is performing the best in both metrics.\n",
    "\n",
    "`river` contains a multi-row table where with error metrics broken down by the `CHAS` indicator feature. Multi-row tables *do not* display the \"Compare\" tab:"
   ]
  },
  {
   "cell_type": "code",
   "execution_count": null,
   "id": "c965b972",
   "metadata": {},
   "outputs": [],
   "source": [
    "nbs['river']"
   ]
  },
  {
   "cell_type": "markdown",
   "id": "5e2eb0cb",
   "metadata": {},
   "source": [
    "If we only compare two notebooks, the output is a bit different:"
   ]
  },
  {
   "cell_type": "code",
   "execution_count": null,
   "id": "3072a035",
   "metadata": {},
   "outputs": [],
   "source": [
    "# only compare two notebooks\n",
    "nbs_two = NotebookCollection(paths=files[:2], ids=ids[:2], scores=['r2'])"
   ]
  },
  {
   "cell_type": "markdown",
   "id": "52b38ea0",
   "metadata": {},
   "source": [
    "Comparing single-row tables includes a diff column with the error difference between experiments. Error reductions are showed in green, increments in red:"
   ]
  },
  {
   "cell_type": "code",
   "execution_count": null,
   "id": "1c6f5479",
   "metadata": {},
   "outputs": [],
   "source": [
    "nbs_two['metrics']"
   ]
  },
  {
   "cell_type": "markdown",
   "id": "05bd0239",
   "metadata": {},
   "source": [
    "When comparing multi-row tables, the \"Compare\" tab appears, showing the difference between the tables:"
   ]
  },
  {
   "cell_type": "code",
   "execution_count": null,
   "id": "1c1c35fd",
   "metadata": {},
   "outputs": [],
   "source": [
    "nbs_two['river']"
   ]
  },
  {
   "cell_type": "markdown",
   "id": "6fc34f90",
   "metadata": {},
   "source": [
    "When displaying dictionaries, a \"Compare\" tab shows with a diff view:"
   ]
  },
  {
   "cell_type": "code",
   "execution_count": null,
   "id": "cdebe2e4",
   "metadata": {},
   "outputs": [],
   "source": [
    "nbs_two['model_params']"
   ]
  },
  {
   "cell_type": "markdown",
   "id": "fc0912e7",
   "metadata": {},
   "source": [
    "Lists (and sets) are compared based on elements existence:"
   ]
  },
  {
   "cell_type": "code",
   "execution_count": null,
   "id": "6977c9ab",
   "metadata": {},
   "outputs": [],
   "source": [
    "nbs_two['feature_names']"
   ]
  },
  {
   "cell_type": "markdown",
   "id": "c0338e35",
   "metadata": {},
   "source": [
    "## Using the mapping interface\n",
    "\n",
    "`NotebookCollection` has a dict-like interface, you can retrieve data from individual notebooks:"
   ]
  },
  {
   "cell_type": "code",
   "execution_count": null,
   "id": "93a8f61a",
   "metadata": {},
   "outputs": [],
   "source": [
    "nbs['model_params']['random_forest_1']"
   ]
  },
  {
   "cell_type": "code",
   "execution_count": null,
   "id": "72b528dd",
   "metadata": {},
   "outputs": [],
   "source": [
    "nbs['plot']['random_forest_2']"
   ]
  }
 ],
 "metadata": {
  "jupytext": {
   "cell_metadata_filter": "-all",
   "main_language": "python",
   "notebook_metadata_filter": "-all"
  }
 },
 "nbformat": 4,
 "nbformat_minor": 5
}
