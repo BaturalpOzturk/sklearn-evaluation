{
 "cells": [
  {
   "cell_type": "markdown",
   "metadata": {
    "papermill": {
     "duration": 0.011121,
     "end_time": "2020-09-26T16:48:33.012992",
     "exception": false,
     "start_time": "2020-09-26T16:48:33.001871",
     "status": "completed"
    },
    "tags": []
   },
   "source": [
    "# SQLiteTracker"
   ]
  },
  {
   "cell_type": "code",
   "execution_count": 1,
   "metadata": {
    "execution": {
     "iopub.execute_input": "2020-09-26T16:48:33.030486Z",
     "iopub.status.busy": "2020-09-26T16:48:33.029751Z",
     "iopub.status.idle": "2020-09-26T16:48:34.176419Z",
     "shell.execute_reply": "2020-09-26T16:48:34.176967Z"
    },
    "papermill": {
     "duration": 1.157046,
     "end_time": "2020-09-26T16:48:34.177177",
     "exception": false,
     "start_time": "2020-09-26T16:48:33.020131",
     "status": "completed"
    },
    "tags": []
   },
   "outputs": [],
   "source": [
    "from sklearn_evaluation.manage.SQLiteTracker import SQLiteTracker"
   ]
  },
  {
   "cell_type": "code",
   "execution_count": 2,
   "metadata": {
    "execution": {
     "iopub.execute_input": "2020-09-26T16:48:34.194553Z",
     "iopub.status.busy": "2020-09-26T16:48:34.193841Z",
     "iopub.status.idle": "2020-09-26T16:48:34.196036Z",
     "shell.execute_reply": "2020-09-26T16:48:34.196543Z"
    },
    "papermill": {
     "duration": 0.013447,
     "end_time": "2020-09-26T16:48:34.196774",
     "exception": false,
     "start_time": "2020-09-26T16:48:34.183327",
     "status": "completed"
    },
    "tags": [
     "parameters"
    ]
   },
   "outputs": [],
   "source": [
    "tracker = SQLiteTracker(':memory:')"
   ]
  },
  {
   "cell_type": "code",
   "execution_count": 3,
   "metadata": {
    "execution": {
     "iopub.execute_input": "2020-09-26T16:48:34.213344Z",
     "iopub.status.busy": "2020-09-26T16:48:34.212558Z",
     "iopub.status.idle": "2020-09-26T16:48:34.214531Z",
     "shell.execute_reply": "2020-09-26T16:48:34.215040Z"
    },
    "papermill": {
     "duration": 0.012368,
     "end_time": "2020-09-26T16:48:34.215256",
     "exception": false,
     "start_time": "2020-09-26T16:48:34.202888",
     "status": "completed"
    },
    "tags": [
     "injected-parameters"
    ]
   },
   "outputs": [],
   "source": [
    "# Parameters\n",
    "product = \"source/user_guide/SQLiteTracker.ipynb\"\n"
   ]
  },
  {
   "cell_type": "code",
   "execution_count": 4,
   "metadata": {
    "execution": {
     "iopub.execute_input": "2020-09-26T16:48:34.232116Z",
     "iopub.status.busy": "2020-09-26T16:48:34.231384Z",
     "iopub.status.idle": "2020-09-26T16:48:34.240051Z",
     "shell.execute_reply": "2020-09-26T16:48:34.240580Z"
    },
    "papermill": {
     "duration": 0.019711,
     "end_time": "2020-09-26T16:48:34.240808",
     "exception": false,
     "start_time": "2020-09-26T16:48:34.221097",
     "status": "completed"
    },
    "tags": []
   },
   "outputs": [
    {
     "data": {
      "text/html": [
       "<h4> SQLiteTracker </h4>(No experiments saved yet)<table>\n",
       "<thead>\n",
       "<tr></tr>\n",
       "</thead>\n",
       "<tbody>\n",
       "</tbody>\n",
       "</table>"
      ],
      "text/plain": [
       "SQLiteTracker\n",
       "(No experiments saved yet)\n",
       "+--------+-----------+-----------+-----------+\n",
       "| uuid   | created   | content   | comment   |\n",
       "+========+===========+===========+===========+\n",
       "+--------+-----------+-----------+-----------+"
      ]
     },
     "execution_count": 4,
     "metadata": {},
     "output_type": "execute_result"
    }
   ],
   "source": [
    "tracker"
   ]
  },
  {
   "cell_type": "code",
   "execution_count": 5,
   "metadata": {
    "execution": {
     "iopub.execute_input": "2020-09-26T16:48:34.257146Z",
     "iopub.status.busy": "2020-09-26T16:48:34.256449Z",
     "iopub.status.idle": "2020-09-26T16:48:34.258718Z",
     "shell.execute_reply": "2020-09-26T16:48:34.259366Z"
    },
    "papermill": {
     "duration": 0.012451,
     "end_time": "2020-09-26T16:48:34.259582",
     "exception": false,
     "start_time": "2020-09-26T16:48:34.247131",
     "status": "completed"
    },
    "tags": []
   },
   "outputs": [],
   "source": [
    "uuid = tracker.new()"
   ]
  },
  {
   "cell_type": "code",
   "execution_count": 6,
   "metadata": {
    "execution": {
     "iopub.execute_input": "2020-09-26T16:48:34.276777Z",
     "iopub.status.busy": "2020-09-26T16:48:34.276052Z",
     "iopub.status.idle": "2020-09-26T16:48:34.278527Z",
     "shell.execute_reply": "2020-09-26T16:48:34.279218Z"
    },
    "papermill": {
     "duration": 0.013608,
     "end_time": "2020-09-26T16:48:34.279476",
     "exception": false,
     "start_time": "2020-09-26T16:48:34.265868",
     "status": "completed"
    },
    "tags": []
   },
   "outputs": [],
   "source": [
    "tracker.update(uuid, {'accuracy': 0.85})"
   ]
  },
  {
   "cell_type": "code",
   "execution_count": 7,
   "metadata": {
    "execution": {
     "iopub.execute_input": "2020-09-26T16:48:34.298693Z",
     "iopub.status.busy": "2020-09-26T16:48:34.297956Z",
     "iopub.status.idle": "2020-09-26T16:48:34.301903Z",
     "shell.execute_reply": "2020-09-26T16:48:34.301303Z"
    },
    "papermill": {
     "duration": 0.015312,
     "end_time": "2020-09-26T16:48:34.302095",
     "exception": false,
     "start_time": "2020-09-26T16:48:34.286783",
     "status": "completed"
    },
    "tags": []
   },
   "outputs": [
    {
     "data": {
      "text/html": [
       "<h4> SQLiteTracker </h4><table>\n",
       "<thead>\n",
       "<tr><th>uuid                            </th><th>created            </th><th>content           </th><th>comment  </th></tr>\n",
       "</thead>\n",
       "<tbody>\n",
       "<tr><td>9997b0431426485d8179833beaa3a863</td><td>2020-09-26 16:48:34</td><td>{\"accuracy\": 0.85}</td><td>         </td></tr>\n",
       "</tbody>\n",
       "</table><br>(Most recent experiments)"
      ],
      "text/plain": [
       "SQLiteTracker\n",
       "+----------------------------------+---------------------+--------------------+-----------+\n",
       "| uuid                             | created             | content            | comment   |\n",
       "+==================================+=====================+====================+===========+\n",
       "| 9997b0431426485d8179833beaa3a863 | 2020-09-26 16:48:34 | {\"accuracy\": 0.85} |           |\n",
       "+----------------------------------+---------------------+--------------------+-----------+\n",
       "(Most recent experiments)"
      ]
     },
     "execution_count": 7,
     "metadata": {},
     "output_type": "execute_result"
    }
   ],
   "source": [
    "tracker"
   ]
  },
  {
   "cell_type": "code",
   "execution_count": 8,
   "metadata": {
    "execution": {
     "iopub.execute_input": "2020-09-26T16:48:34.322320Z",
     "iopub.status.busy": "2020-09-26T16:48:34.321631Z",
     "iopub.status.idle": "2020-09-26T16:48:34.323977Z",
     "shell.execute_reply": "2020-09-26T16:48:34.324439Z"
    },
    "papermill": {
     "duration": 0.014575,
     "end_time": "2020-09-26T16:48:34.324633",
     "exception": false,
     "start_time": "2020-09-26T16:48:34.310058",
     "status": "completed"
    },
    "tags": []
   },
   "outputs": [],
   "source": [
    "tracker.comment(uuid, 'My experiment')"
   ]
  },
  {
   "cell_type": "code",
   "execution_count": 9,
   "metadata": {
    "execution": {
     "iopub.execute_input": "2020-09-26T16:48:34.343754Z",
     "iopub.status.busy": "2020-09-26T16:48:34.342886Z",
     "iopub.status.idle": "2020-09-26T16:48:34.346680Z",
     "shell.execute_reply": "2020-09-26T16:48:34.347181Z"
    },
    "papermill": {
     "duration": 0.015757,
     "end_time": "2020-09-26T16:48:34.347397",
     "exception": false,
     "start_time": "2020-09-26T16:48:34.331640",
     "status": "completed"
    },
    "tags": []
   },
   "outputs": [
    {
     "data": {
      "text/html": [
       "<h4> SQLiteTracker </h4><table>\n",
       "<thead>\n",
       "<tr><th>uuid                            </th><th>created            </th><th>content           </th><th>comment      </th></tr>\n",
       "</thead>\n",
       "<tbody>\n",
       "<tr><td>9997b0431426485d8179833beaa3a863</td><td>2020-09-26 16:48:34</td><td>{\"accuracy\": 0.85}</td><td>My experiment</td></tr>\n",
       "</tbody>\n",
       "</table><br>(Most recent experiments)"
      ],
      "text/plain": [
       "SQLiteTracker\n",
       "+----------------------------------+---------------------+--------------------+---------------+\n",
       "| uuid                             | created             | content            | comment       |\n",
       "+==================================+=====================+====================+===============+\n",
       "| 9997b0431426485d8179833beaa3a863 | 2020-09-26 16:48:34 | {\"accuracy\": 0.85} | My experiment |\n",
       "+----------------------------------+---------------------+--------------------+---------------+\n",
       "(Most recent experiments)"
      ]
     },
     "execution_count": 9,
     "metadata": {},
     "output_type": "execute_result"
    }
   ],
   "source": [
    "tracker"
   ]
  }
 ],
 "metadata": {
  "jupytext": {
   "cell_metadata_filter": "tags,-all",
   "main_language": "python",
   "notebook_metadata_filter": "-all",
   "text_representation": {
    "extension": ".py",
    "format_name": "light"
   }
  },
  "kernelspec": {
   "display_name": "Python 3",
   "language": "python",
   "name": "python3"
  },
  "language_info": {
   "codemirror_mode": {
    "name": "ipython",
    "version": 3
   },
   "file_extension": ".py",
   "mimetype": "text/x-python",
   "name": "python",
   "nbconvert_exporter": "python",
   "pygments_lexer": "ipython3",
   "version": "3.6.10"
  },
  "papermill": {
   "duration": 2.512936,
   "end_time": "2020-09-26T16:48:34.670849",
   "environment_variables": {},
   "exception": null,
   "input_path": "/var/folders/3h/_lvh_w_x5g30rrjzb_xnn2j80000gq/T/tmpwgj0obfn.ipynb",
   "output_path": "source/user_guide/SQLiteTracker.ipynb",
   "parameters": {
    "product": "source/user_guide/SQLiteTracker.ipynb"
   },
   "start_time": "2020-09-26T16:48:32.157913",
   "version": "2.1.3"
  }
 },
 "nbformat": 4,
 "nbformat_minor": 4
}