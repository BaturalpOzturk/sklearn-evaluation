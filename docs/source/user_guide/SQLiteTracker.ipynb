{
 "cells": [
  {
   "cell_type": "markdown",
   "metadata": {
    "papermill": {
     "duration": 0.011722,
     "end_time": "2020-09-26T23:18:23.246766",
     "exception": false,
     "start_time": "2020-09-26T23:18:23.235044",
     "status": "completed"
    },
    "tags": []
   },
   "source": [
    "# Tracking Machine Learning experiments\n",
    "\n",
    "`SQLiteTracker` provides a simple yet powerful way to track ML experiments using a SQLite database."
   ]
  },
  {
   "cell_type": "code",
   "execution_count": 1,
   "metadata": {
    "execution": {
     "iopub.execute_input": "2020-09-26T23:18:23.274702Z",
     "iopub.status.busy": "2020-09-26T23:18:23.274005Z",
     "iopub.status.idle": "2020-09-26T23:18:24.526997Z",
     "shell.execute_reply": "2020-09-26T23:18:24.527507Z"
    },
    "papermill": {
     "duration": 1.26886,
     "end_time": "2020-09-26T23:18:24.527751",
     "exception": false,
     "start_time": "2020-09-26T23:18:23.258891",
     "status": "completed"
    },
    "tags": []
   },
   "outputs": [],
   "source": [
    "from sklearn_evaluation import SQLiteTracker\n",
    "\n",
    "from sklearn.datasets import load_iris\n",
    "from sklearn.ensemble import RandomForestRegressor\n",
    "from sklearn.linear_model import LinearRegression, Lasso\n",
    "from sklearn.svm import SVR\n",
    "from sklearn.model_selection import train_test_split\n",
    "from sklearn.metrics import mean_squared_error"
   ]
  },
  {
   "cell_type": "code",
   "execution_count": 2,
   "metadata": {
    "execution": {
     "iopub.execute_input": "2020-09-26T23:18:24.553082Z",
     "iopub.status.busy": "2020-09-26T23:18:24.552266Z",
     "iopub.status.idle": "2020-09-26T23:18:24.556408Z",
     "shell.execute_reply": "2020-09-26T23:18:24.556929Z"
    },
    "papermill": {
     "duration": 0.018562,
     "end_time": "2020-09-26T23:18:24.557138",
     "exception": false,
     "start_time": "2020-09-26T23:18:24.538576",
     "status": "completed"
    },
    "tags": [
     "parameters"
    ]
   },
   "outputs": [],
   "source": [
    "tracker = SQLiteTracker('my_experiments.db')"
   ]
  },
  {
   "cell_type": "code",
   "execution_count": 3,
   "metadata": {
    "execution": {
     "iopub.execute_input": "2020-09-26T23:18:24.583114Z",
     "iopub.status.busy": "2020-09-26T23:18:24.582378Z",
     "iopub.status.idle": "2020-09-26T23:18:24.584596Z",
     "shell.execute_reply": "2020-09-26T23:18:24.585110Z"
    },
    "papermill": {
     "duration": 0.017849,
     "end_time": "2020-09-26T23:18:24.585329",
     "exception": false,
     "start_time": "2020-09-26T23:18:24.567480",
     "status": "completed"
    },
    "tags": [
     "injected-parameters"
    ]
   },
   "outputs": [],
   "source": [
    "# Parameters\n",
    "product = \"source/user_guide/SQLiteTracker.ipynb\"\n"
   ]
  },
  {
   "cell_type": "code",
   "execution_count": 4,
   "metadata": {
    "execution": {
     "iopub.execute_input": "2020-09-26T23:18:24.612364Z",
     "iopub.status.busy": "2020-09-26T23:18:24.611602Z",
     "iopub.status.idle": "2020-09-26T23:18:24.623078Z",
     "shell.execute_reply": "2020-09-26T23:18:24.623767Z"
    },
    "papermill": {
     "duration": 0.027565,
     "end_time": "2020-09-26T23:18:24.624018",
     "exception": false,
     "start_time": "2020-09-26T23:18:24.596453",
     "status": "completed"
    },
    "tags": []
   },
   "outputs": [],
   "source": [
    "iris = load_iris(as_frame=True)\n",
    "X, y = iris['data'], iris['target']\n",
    "X_train, X_test, y_train, y_test = train_test_split(X, y, test_size=0.33, random_state=42)\n",
    "\n",
    "models = [RandomForestRegressor(), LinearRegression(), Lasso()]"
   ]
  },
  {
   "cell_type": "code",
   "execution_count": 5,
   "metadata": {
    "execution": {
     "iopub.execute_input": "2020-09-26T23:18:24.651252Z",
     "iopub.status.busy": "2020-09-26T23:18:24.650346Z",
     "iopub.status.idle": "2020-09-26T23:18:24.760663Z",
     "shell.execute_reply": "2020-09-26T23:18:24.761139Z"
    },
    "papermill": {
     "duration": 0.126615,
     "end_time": "2020-09-26T23:18:24.761335",
     "exception": false,
     "start_time": "2020-09-26T23:18:24.634720",
     "status": "completed"
    },
    "tags": []
   },
   "outputs": [
    {
     "name": "stdout",
     "output_type": "stream",
     "text": [
      "Fitting RandomForestRegressor\n",
      "Fitting LinearRegression\n",
      "Fitting Lasso\n"
     ]
    }
   ],
   "source": [
    "for m in models:\n",
    "    model = type(m).__name__\n",
    "    print(f'Fitting {model}')\n",
    "\n",
    "    # .new() returns a uuid and creates an entry in the db\n",
    "    uuid = tracker.new()\n",
    "    m.fit(X_train, y_train)\n",
    "    y_pred = m.predict(X_test)\n",
    "    mse = mean_squared_error(y_test, y_pred)\n",
    "\n",
    "    # add data with the .update(uuid, {'param': 'value'}) method\n",
    "    tracker.update(uuid, {'mse': mse, 'model': model, **m.get_params()})"
   ]
  },
  {
   "cell_type": "markdown",
   "metadata": {
    "papermill": {
     "duration": 0.011374,
     "end_time": "2020-09-26T23:18:24.784483",
     "exception": false,
     "start_time": "2020-09-26T23:18:24.773109",
     "status": "completed"
    },
    "tags": []
   },
   "source": [
    "Or use `.insert(uuid, params)` to supply your own ID:"
   ]
  },
  {
   "cell_type": "code",
   "execution_count": 6,
   "metadata": {
    "execution": {
     "iopub.execute_input": "2020-09-26T23:18:24.814729Z",
     "iopub.status.busy": "2020-09-26T23:18:24.814069Z",
     "iopub.status.idle": "2020-09-26T23:18:24.820089Z",
     "shell.execute_reply": "2020-09-26T23:18:24.820597Z"
    },
    "papermill": {
     "duration": 0.024991,
     "end_time": "2020-09-26T23:18:24.820792",
     "exception": false,
     "start_time": "2020-09-26T23:18:24.795801",
     "status": "completed"
    },
    "tags": []
   },
   "outputs": [],
   "source": [
    "svr = SVR()\n",
    "svr.fit(X_train, y_train)\n",
    "y_pred = svr.predict(X_test)\n",
    "mse = mean_squared_error(y_test, y_pred)\n",
    "\n",
    "tracker.insert('my_uuid', {'mse': mse, 'model': type(svr).__name__, **svr.get_params()})"
   ]
  },
  {
   "cell_type": "markdown",
   "metadata": {
    "papermill": {
     "duration": 0.01099,
     "end_time": "2020-09-26T23:18:24.843097",
     "exception": false,
     "start_time": "2020-09-26T23:18:24.832107",
     "status": "completed"
    },
    "tags": []
   },
   "source": [
    "`tracker` shows last experiments by default:"
   ]
  },
  {
   "cell_type": "code",
   "execution_count": 7,
   "metadata": {
    "execution": {
     "iopub.execute_input": "2020-09-26T23:18:24.871589Z",
     "iopub.status.busy": "2020-09-26T23:18:24.870918Z",
     "iopub.status.idle": "2020-09-26T23:18:24.887500Z",
     "shell.execute_reply": "2020-09-26T23:18:24.886964Z"
    },
    "papermill": {
     "duration": 0.033137,
     "end_time": "2020-09-26T23:18:24.887715",
     "exception": false,
     "start_time": "2020-09-26T23:18:24.854578",
     "status": "completed"
    },
    "tags": []
   },
   "outputs": [
    {
     "data": {
      "text/html": [
       "<h4> SQLiteTracker </h4><table>\n",
       "<thead>\n",
       "<tr><th>uuid                            </th><th>created            </th><th>parameters                                                                                                                                                                                                                                                                                                                                                                                                                                                                  </th><th>comment  </th></tr>\n",
       "</thead>\n",
       "<tbody>\n",
       "<tr><td>27c6471f2f46484e93380b18149d56e6</td><td>2020-09-26 23:18:24</td><td>{\"mse\": 0.008521999999999997, \"model\": \"RandomForestRegressor\", \"bootstrap\": true, \"ccp_alpha\": 0.0, \"criterion\": \"mse\", \"max_depth\": null, \"max_features\": \"auto\", \"max_leaf_nodes\": null, \"max_samples\": null, \"min_impurity_decrease\": 0.0, \"min_impurity_split\": null, \"min_samples_leaf\": 1, \"min_samples_split\": 2, \"min_weight_fraction_leaf\": 0.0, \"n_estimators\": 100, \"n_jobs\": null, \"oob_score\": false, \"random_state\": null, \"verbose\": 0, \"warm_start\": false}</td><td>         </td></tr>\n",
       "<tr><td>d990ea2ad1b144aaaed0e5d44d7948f1</td><td>2020-09-26 23:18:24</td><td>{\"mse\": 0.0426003411376179, \"model\": \"LinearRegression\", \"copy_X\": true, \"fit_intercept\": true, \"n_jobs\": null, \"normalize\": false}                                                                                                                                                                                                                                                                                                                                         </td><td>         </td></tr>\n",
       "<tr><td>f90a3a8433414d21819172dd34e16b94</td><td>2020-09-26 23:18:24</td><td>{\"mse\": 0.4317655183287657, \"model\": \"Lasso\", \"alpha\": 1.0, \"copy_X\": true, \"fit_intercept\": true, \"max_iter\": 1000, \"normalize\": false, \"positive\": false, \"precompute\": false, \"random_state\": null, \"selection\": \"cyclic\", \"tol\": 0.0001, \"warm_start\": false}                                                                                                                                                                                                           </td><td>         </td></tr>\n",
       "<tr><td>my_uuid                         </td><td>2020-09-26 23:18:24</td><td>{\"mse\": 0.030419125413621413, \"model\": \"SVR\", \"C\": 1.0, \"cache_size\": 200, \"coef0\": 0.0, \"degree\": 3, \"epsilon\": 0.1, \"gamma\": \"scale\", \"kernel\": \"rbf\", \"max_iter\": -1, \"shrinking\": true, \"tol\": 0.001, \"verbose\": false}                                                                                                                                                                                                                                                 </td><td>         </td></tr>\n",
       "</tbody>\n",
       "</table><br>(Most recent experiments)"
      ],
      "text/plain": [
       "SQLiteTracker\n",
       "+----------------------------------+---------------------+------------------------------------------------------------------------------------------------------------------------------------------------------------------------------------------------------------------------------------------------------------------------------------------------------------------------------------------------------------------------------------------------------------------------------------------------------------------------------+-----------+\n",
       "| uuid                             | created             | parameters                                                                                                                                                                                                                                                                                                                                                                                                                                                                   | comment   |\n",
       "+==================================+=====================+==============================================================================================================================================================================================================================================================================================================================================================================================================================================================================+===========+\n",
       "| 27c6471f2f46484e93380b18149d56e6 | 2020-09-26 23:18:24 | {\"mse\": 0.008521999999999997, \"model\": \"RandomForestRegressor\", \"bootstrap\": true, \"ccp_alpha\": 0.0, \"criterion\": \"mse\", \"max_depth\": null, \"max_features\": \"auto\", \"max_leaf_nodes\": null, \"max_samples\": null, \"min_impurity_decrease\": 0.0, \"min_impurity_split\": null, \"min_samples_leaf\": 1, \"min_samples_split\": 2, \"min_weight_fraction_leaf\": 0.0, \"n_estimators\": 100, \"n_jobs\": null, \"oob_score\": false, \"random_state\": null, \"verbose\": 0, \"warm_start\": false} |           |\n",
       "+----------------------------------+---------------------+------------------------------------------------------------------------------------------------------------------------------------------------------------------------------------------------------------------------------------------------------------------------------------------------------------------------------------------------------------------------------------------------------------------------------------------------------------------------------+-----------+\n",
       "| d990ea2ad1b144aaaed0e5d44d7948f1 | 2020-09-26 23:18:24 | {\"mse\": 0.0426003411376179, \"model\": \"LinearRegression\", \"copy_X\": true, \"fit_intercept\": true, \"n_jobs\": null, \"normalize\": false}                                                                                                                                                                                                                                                                                                                                          |           |\n",
       "+----------------------------------+---------------------+------------------------------------------------------------------------------------------------------------------------------------------------------------------------------------------------------------------------------------------------------------------------------------------------------------------------------------------------------------------------------------------------------------------------------------------------------------------------------+-----------+\n",
       "| f90a3a8433414d21819172dd34e16b94 | 2020-09-26 23:18:24 | {\"mse\": 0.4317655183287657, \"model\": \"Lasso\", \"alpha\": 1.0, \"copy_X\": true, \"fit_intercept\": true, \"max_iter\": 1000, \"normalize\": false, \"positive\": false, \"precompute\": false, \"random_state\": null, \"selection\": \"cyclic\", \"tol\": 0.0001, \"warm_start\": false}                                                                                                                                                                                                            |           |\n",
       "+----------------------------------+---------------------+------------------------------------------------------------------------------------------------------------------------------------------------------------------------------------------------------------------------------------------------------------------------------------------------------------------------------------------------------------------------------------------------------------------------------------------------------------------------------+-----------+\n",
       "| my_uuid                          | 2020-09-26 23:18:24 | {\"mse\": 0.030419125413621413, \"model\": \"SVR\", \"C\": 1.0, \"cache_size\": 200, \"coef0\": 0.0, \"degree\": 3, \"epsilon\": 0.1, \"gamma\": \"scale\", \"kernel\": \"rbf\", \"max_iter\": -1, \"shrinking\": true, \"tol\": 0.001, \"verbose\": false}                                                                                                                                                                                                                                                  |           |\n",
       "+----------------------------------+---------------------+------------------------------------------------------------------------------------------------------------------------------------------------------------------------------------------------------------------------------------------------------------------------------------------------------------------------------------------------------------------------------------------------------------------------------------------------------------------------------+-----------+\n",
       "(Most recent experiments)"
      ]
     },
     "execution_count": 7,
     "metadata": {},
     "output_type": "execute_result"
    }
   ],
   "source": [
    "tracker"
   ]
  },
  {
   "cell_type": "markdown",
   "metadata": {
    "papermill": {
     "duration": 0.011924,
     "end_time": "2020-09-26T23:18:24.911097",
     "exception": false,
     "start_time": "2020-09-26T23:18:24.899173",
     "status": "completed"
    },
    "tags": []
   },
   "source": [
    "## Querying experiments"
   ]
  },
  {
   "cell_type": "code",
   "execution_count": 8,
   "metadata": {
    "execution": {
     "iopub.execute_input": "2020-09-26T23:18:24.939953Z",
     "iopub.status.busy": "2020-09-26T23:18:24.939272Z",
     "iopub.status.idle": "2020-09-26T23:18:25.082205Z",
     "shell.execute_reply": "2020-09-26T23:18:25.082682Z"
    },
    "papermill": {
     "duration": 0.15989,
     "end_time": "2020-09-26T23:18:25.082878",
     "exception": false,
     "start_time": "2020-09-26T23:18:24.922988",
     "status": "completed"
    },
    "tags": []
   },
   "outputs": [
    {
     "data": {
      "text/html": [
       "<div>\n",
       "<style scoped>\n",
       "    .dataframe tbody tr th:only-of-type {\n",
       "        vertical-align: middle;\n",
       "    }\n",
       "\n",
       "    .dataframe tbody tr th {\n",
       "        vertical-align: top;\n",
       "    }\n",
       "\n",
       "    .dataframe thead th {\n",
       "        text-align: right;\n",
       "    }\n",
       "</style>\n",
       "<table border=\"1\" class=\"dataframe\">\n",
       "  <thead>\n",
       "    <tr style=\"text-align: right;\">\n",
       "      <th></th>\n",
       "      <th>model</th>\n",
       "      <th>mse</th>\n",
       "    </tr>\n",
       "    <tr>\n",
       "      <th>uuid</th>\n",
       "      <th></th>\n",
       "      <th></th>\n",
       "    </tr>\n",
       "  </thead>\n",
       "  <tbody>\n",
       "    <tr>\n",
       "      <th>27c6471f2f46484e93380b18149d56e6</th>\n",
       "      <td>RandomForestRegressor</td>\n",
       "      <td>0.008522</td>\n",
       "    </tr>\n",
       "    <tr>\n",
       "      <th>my_uuid</th>\n",
       "      <td>SVR</td>\n",
       "      <td>0.030419</td>\n",
       "    </tr>\n",
       "    <tr>\n",
       "      <th>d990ea2ad1b144aaaed0e5d44d7948f1</th>\n",
       "      <td>LinearRegression</td>\n",
       "      <td>0.042600</td>\n",
       "    </tr>\n",
       "    <tr>\n",
       "      <th>f90a3a8433414d21819172dd34e16b94</th>\n",
       "      <td>Lasso</td>\n",
       "      <td>0.431766</td>\n",
       "    </tr>\n",
       "  </tbody>\n",
       "</table>\n",
       "</div>"
      ],
      "text/plain": [
       "                                                  model       mse\n",
       "uuid                                                             \n",
       "27c6471f2f46484e93380b18149d56e6  RandomForestRegressor  0.008522\n",
       "my_uuid                                             SVR  0.030419\n",
       "d990ea2ad1b144aaaed0e5d44d7948f1       LinearRegression  0.042600\n",
       "f90a3a8433414d21819172dd34e16b94                  Lasso  0.431766"
      ]
     },
     "execution_count": 8,
     "metadata": {},
     "output_type": "execute_result"
    }
   ],
   "source": [
    "ordered = tracker.query(\"\"\"\n",
    "SELECT uuid,\n",
    "       json_extract(parameters, '$.model') AS model,\n",
    "       json_extract(parameters, '$.mse') AS mse\n",
    "FROM experiments\n",
    "ORDER BY json_extract(parameters, '$.mse') ASC\n",
    "\"\"\")\n",
    "ordered"
   ]
  },
  {
   "cell_type": "markdown",
   "metadata": {
    "papermill": {
     "duration": 0.013062,
     "end_time": "2020-09-26T23:18:25.109369",
     "exception": false,
     "start_time": "2020-09-26T23:18:25.096307",
     "status": "completed"
    },
    "tags": []
   },
   "source": [
    "The query method returns a data frame with \"uuid\" as the index:"
   ]
  },
  {
   "cell_type": "code",
   "execution_count": 9,
   "metadata": {
    "execution": {
     "iopub.execute_input": "2020-09-26T23:18:25.141987Z",
     "iopub.status.busy": "2020-09-26T23:18:25.141227Z",
     "iopub.status.idle": "2020-09-26T23:18:25.143661Z",
     "shell.execute_reply": "2020-09-26T23:18:25.144279Z"
    },
    "papermill": {
     "duration": 0.021203,
     "end_time": "2020-09-26T23:18:25.144471",
     "exception": false,
     "start_time": "2020-09-26T23:18:25.123268",
     "status": "completed"
    },
    "tags": []
   },
   "outputs": [
    {
     "data": {
      "text/plain": [
       "pandas.core.frame.DataFrame"
      ]
     },
     "execution_count": 9,
     "metadata": {},
     "output_type": "execute_result"
    }
   ],
   "source": [
    "type(ordered)"
   ]
  },
  {
   "cell_type": "markdown",
   "metadata": {
    "papermill": {
     "duration": 0.012835,
     "end_time": "2020-09-26T23:18:25.170986",
     "exception": false,
     "start_time": "2020-09-26T23:18:25.158151",
     "status": "completed"
    },
    "tags": []
   },
   "source": [
    "## Adding comments\n"
   ]
  },
  {
   "cell_type": "code",
   "execution_count": 10,
   "metadata": {
    "execution": {
     "iopub.execute_input": "2020-09-26T23:18:25.200632Z",
     "iopub.status.busy": "2020-09-26T23:18:25.199833Z",
     "iopub.status.idle": "2020-09-26T23:18:25.203180Z",
     "shell.execute_reply": "2020-09-26T23:18:25.203674Z"
    },
    "papermill": {
     "duration": 0.020321,
     "end_time": "2020-09-26T23:18:25.203881",
     "exception": false,
     "start_time": "2020-09-26T23:18:25.183560",
     "status": "completed"
    },
    "tags": []
   },
   "outputs": [],
   "source": [
    "tracker.comment(ordered.index[0], 'Best performing experiment')"
   ]
  },
  {
   "cell_type": "code",
   "execution_count": 11,
   "metadata": {
    "execution": {
     "iopub.execute_input": "2020-09-26T23:18:25.234905Z",
     "iopub.status.busy": "2020-09-26T23:18:25.234250Z",
     "iopub.status.idle": "2020-09-26T23:18:25.244802Z",
     "shell.execute_reply": "2020-09-26T23:18:25.245342Z"
    },
    "papermill": {
     "duration": 0.027948,
     "end_time": "2020-09-26T23:18:25.245528",
     "exception": false,
     "start_time": "2020-09-26T23:18:25.217580",
     "status": "completed"
    },
    "tags": []
   },
   "outputs": [
    {
     "data": {
      "text/html": [
       "<div>\n",
       "<style scoped>\n",
       "    .dataframe tbody tr th:only-of-type {\n",
       "        vertical-align: middle;\n",
       "    }\n",
       "\n",
       "    .dataframe tbody tr th {\n",
       "        vertical-align: top;\n",
       "    }\n",
       "\n",
       "    .dataframe thead th {\n",
       "        text-align: right;\n",
       "    }\n",
       "</style>\n",
       "<table border=\"1\" class=\"dataframe\">\n",
       "  <thead>\n",
       "    <tr style=\"text-align: right;\">\n",
       "      <th></th>\n",
       "      <th>created</th>\n",
       "      <th>parameters</th>\n",
       "      <th>comment</th>\n",
       "    </tr>\n",
       "    <tr>\n",
       "      <th>uuid</th>\n",
       "      <th></th>\n",
       "      <th></th>\n",
       "      <th></th>\n",
       "    </tr>\n",
       "  </thead>\n",
       "  <tbody>\n",
       "    <tr>\n",
       "      <th>27c6471f2f46484e93380b18149d56e6</th>\n",
       "      <td>2020-09-26 23:18:24</td>\n",
       "      <td>{\"mse\": 0.008521999999999997, \"model\": \"Random...</td>\n",
       "      <td>Best performing experiment</td>\n",
       "    </tr>\n",
       "  </tbody>\n",
       "</table>\n",
       "</div>"
      ],
      "text/plain": [
       "                                              created  \\\n",
       "uuid                                                    \n",
       "27c6471f2f46484e93380b18149d56e6  2020-09-26 23:18:24   \n",
       "\n",
       "                                                                         parameters  \\\n",
       "uuid                                                                                  \n",
       "27c6471f2f46484e93380b18149d56e6  {\"mse\": 0.008521999999999997, \"model\": \"Random...   \n",
       "\n",
       "                                                     comment  \n",
       "uuid                                                          \n",
       "27c6471f2f46484e93380b18149d56e6  Best performing experiment  "
      ]
     },
     "execution_count": 11,
     "metadata": {},
     "output_type": "execute_result"
    }
   ],
   "source": [
    "tracker[ordered.index[0]]"
   ]
  },
  {
   "cell_type": "markdown",
   "metadata": {
    "papermill": {
     "duration": 0.013306,
     "end_time": "2020-09-26T23:18:25.272160",
     "exception": false,
     "start_time": "2020-09-26T23:18:25.258854",
     "status": "completed"
    },
    "tags": []
   },
   "source": [
    "## Getting recent experiments\n",
    "\n",
    "The recent method also returns a data frame:"
   ]
  },
  {
   "cell_type": "code",
   "execution_count": 12,
   "metadata": {
    "execution": {
     "iopub.execute_input": "2020-09-26T23:18:25.302811Z",
     "iopub.status.busy": "2020-09-26T23:18:25.302122Z",
     "iopub.status.idle": "2020-09-26T23:18:25.311639Z",
     "shell.execute_reply": "2020-09-26T23:18:25.312116Z"
    },
    "papermill": {
     "duration": 0.026463,
     "end_time": "2020-09-26T23:18:25.312310",
     "exception": false,
     "start_time": "2020-09-26T23:18:25.285847",
     "status": "completed"
    },
    "tags": []
   },
   "outputs": [
    {
     "data": {
      "text/html": [
       "<div>\n",
       "<style scoped>\n",
       "    .dataframe tbody tr th:only-of-type {\n",
       "        vertical-align: middle;\n",
       "    }\n",
       "\n",
       "    .dataframe tbody tr th {\n",
       "        vertical-align: top;\n",
       "    }\n",
       "\n",
       "    .dataframe thead th {\n",
       "        text-align: right;\n",
       "    }\n",
       "</style>\n",
       "<table border=\"1\" class=\"dataframe\">\n",
       "  <thead>\n",
       "    <tr style=\"text-align: right;\">\n",
       "      <th></th>\n",
       "      <th>created</th>\n",
       "      <th>parameters</th>\n",
       "      <th>comment</th>\n",
       "    </tr>\n",
       "    <tr>\n",
       "      <th>uuid</th>\n",
       "      <th></th>\n",
       "      <th></th>\n",
       "      <th></th>\n",
       "    </tr>\n",
       "  </thead>\n",
       "  <tbody>\n",
       "    <tr>\n",
       "      <th>27c6471f2f46484e93380b18149d56e6</th>\n",
       "      <td>2020-09-26 23:18:24</td>\n",
       "      <td>{\"mse\": 0.008521999999999997, \"model\": \"Random...</td>\n",
       "      <td>Best performing experiment</td>\n",
       "    </tr>\n",
       "    <tr>\n",
       "      <th>d990ea2ad1b144aaaed0e5d44d7948f1</th>\n",
       "      <td>2020-09-26 23:18:24</td>\n",
       "      <td>{\"mse\": 0.0426003411376179, \"model\": \"LinearRe...</td>\n",
       "      <td>None</td>\n",
       "    </tr>\n",
       "    <tr>\n",
       "      <th>f90a3a8433414d21819172dd34e16b94</th>\n",
       "      <td>2020-09-26 23:18:24</td>\n",
       "      <td>{\"mse\": 0.4317655183287657, \"model\": \"Lasso\", ...</td>\n",
       "      <td>None</td>\n",
       "    </tr>\n",
       "    <tr>\n",
       "      <th>my_uuid</th>\n",
       "      <td>2020-09-26 23:18:24</td>\n",
       "      <td>{\"mse\": 0.030419125413621413, \"model\": \"SVR\", ...</td>\n",
       "      <td>None</td>\n",
       "    </tr>\n",
       "  </tbody>\n",
       "</table>\n",
       "</div>"
      ],
      "text/plain": [
       "                                              created  \\\n",
       "uuid                                                    \n",
       "27c6471f2f46484e93380b18149d56e6  2020-09-26 23:18:24   \n",
       "d990ea2ad1b144aaaed0e5d44d7948f1  2020-09-26 23:18:24   \n",
       "f90a3a8433414d21819172dd34e16b94  2020-09-26 23:18:24   \n",
       "my_uuid                           2020-09-26 23:18:24   \n",
       "\n",
       "                                                                         parameters  \\\n",
       "uuid                                                                                  \n",
       "27c6471f2f46484e93380b18149d56e6  {\"mse\": 0.008521999999999997, \"model\": \"Random...   \n",
       "d990ea2ad1b144aaaed0e5d44d7948f1  {\"mse\": 0.0426003411376179, \"model\": \"LinearRe...   \n",
       "f90a3a8433414d21819172dd34e16b94  {\"mse\": 0.4317655183287657, \"model\": \"Lasso\", ...   \n",
       "my_uuid                           {\"mse\": 0.030419125413621413, \"model\": \"SVR\", ...   \n",
       "\n",
       "                                                     comment  \n",
       "uuid                                                          \n",
       "27c6471f2f46484e93380b18149d56e6  Best performing experiment  \n",
       "d990ea2ad1b144aaaed0e5d44d7948f1                        None  \n",
       "f90a3a8433414d21819172dd34e16b94                        None  \n",
       "my_uuid                                                 None  "
      ]
     },
     "execution_count": 12,
     "metadata": {},
     "output_type": "execute_result"
    }
   ],
   "source": [
    "df = tracker.recent()\n",
    "df"
   ]
  },
  {
   "cell_type": "markdown",
   "metadata": {
    "papermill": {
     "duration": 0.014893,
     "end_time": "2020-09-26T23:18:25.341503",
     "exception": false,
     "start_time": "2020-09-26T23:18:25.326610",
     "status": "completed"
    },
    "tags": []
   },
   "source": [
    "Pass `normalize=True` to convert the nested JSON dictionary into columns:"
   ]
  },
  {
   "cell_type": "code",
   "execution_count": 13,
   "metadata": {
    "execution": {
     "iopub.execute_input": "2020-09-26T23:18:25.377063Z",
     "iopub.status.busy": "2020-09-26T23:18:25.372931Z",
     "iopub.status.idle": "2020-09-26T23:18:25.411983Z",
     "shell.execute_reply": "2020-09-26T23:18:25.412484Z"
    },
    "papermill": {
     "duration": 0.057474,
     "end_time": "2020-09-26T23:18:25.412694",
     "exception": false,
     "start_time": "2020-09-26T23:18:25.355220",
     "status": "completed"
    },
    "tags": []
   },
   "outputs": [
    {
     "data": {
      "text/html": [
       "<div>\n",
       "<style scoped>\n",
       "    .dataframe tbody tr th:only-of-type {\n",
       "        vertical-align: middle;\n",
       "    }\n",
       "\n",
       "    .dataframe tbody tr th {\n",
       "        vertical-align: top;\n",
       "    }\n",
       "\n",
       "    .dataframe thead th {\n",
       "        text-align: right;\n",
       "    }\n",
       "</style>\n",
       "<table border=\"1\" class=\"dataframe\">\n",
       "  <thead>\n",
       "    <tr style=\"text-align: right;\">\n",
       "      <th></th>\n",
       "      <th>created</th>\n",
       "      <th>mse</th>\n",
       "      <th>model</th>\n",
       "      <th>bootstrap</th>\n",
       "      <th>ccp_alpha</th>\n",
       "      <th>criterion</th>\n",
       "      <th>max_depth</th>\n",
       "      <th>max_features</th>\n",
       "      <th>max_leaf_nodes</th>\n",
       "      <th>max_samples</th>\n",
       "      <th>...</th>\n",
       "      <th>tol</th>\n",
       "      <th>C</th>\n",
       "      <th>cache_size</th>\n",
       "      <th>coef0</th>\n",
       "      <th>degree</th>\n",
       "      <th>epsilon</th>\n",
       "      <th>gamma</th>\n",
       "      <th>kernel</th>\n",
       "      <th>shrinking</th>\n",
       "      <th>comment</th>\n",
       "    </tr>\n",
       "    <tr>\n",
       "      <th>uuid</th>\n",
       "      <th></th>\n",
       "      <th></th>\n",
       "      <th></th>\n",
       "      <th></th>\n",
       "      <th></th>\n",
       "      <th></th>\n",
       "      <th></th>\n",
       "      <th></th>\n",
       "      <th></th>\n",
       "      <th></th>\n",
       "      <th></th>\n",
       "      <th></th>\n",
       "      <th></th>\n",
       "      <th></th>\n",
       "      <th></th>\n",
       "      <th></th>\n",
       "      <th></th>\n",
       "      <th></th>\n",
       "      <th></th>\n",
       "      <th></th>\n",
       "      <th></th>\n",
       "    </tr>\n",
       "  </thead>\n",
       "  <tbody>\n",
       "    <tr>\n",
       "      <th>27c6471f2f46484e93380b18149d56e6</th>\n",
       "      <td>2020-09-26 23:18:24</td>\n",
       "      <td>0.008522</td>\n",
       "      <td>RandomForestRegressor</td>\n",
       "      <td>True</td>\n",
       "      <td>0.0</td>\n",
       "      <td>mse</td>\n",
       "      <td>NaN</td>\n",
       "      <td>auto</td>\n",
       "      <td>NaN</td>\n",
       "      <td>NaN</td>\n",
       "      <td>...</td>\n",
       "      <td>NaN</td>\n",
       "      <td>NaN</td>\n",
       "      <td>NaN</td>\n",
       "      <td>NaN</td>\n",
       "      <td>NaN</td>\n",
       "      <td>NaN</td>\n",
       "      <td>NaN</td>\n",
       "      <td>NaN</td>\n",
       "      <td>NaN</td>\n",
       "      <td>Best performing experiment</td>\n",
       "    </tr>\n",
       "    <tr>\n",
       "      <th>d990ea2ad1b144aaaed0e5d44d7948f1</th>\n",
       "      <td>2020-09-26 23:18:24</td>\n",
       "      <td>0.042600</td>\n",
       "      <td>LinearRegression</td>\n",
       "      <td>NaN</td>\n",
       "      <td>NaN</td>\n",
       "      <td>NaN</td>\n",
       "      <td>NaN</td>\n",
       "      <td>NaN</td>\n",
       "      <td>NaN</td>\n",
       "      <td>NaN</td>\n",
       "      <td>...</td>\n",
       "      <td>NaN</td>\n",
       "      <td>NaN</td>\n",
       "      <td>NaN</td>\n",
       "      <td>NaN</td>\n",
       "      <td>NaN</td>\n",
       "      <td>NaN</td>\n",
       "      <td>NaN</td>\n",
       "      <td>NaN</td>\n",
       "      <td>NaN</td>\n",
       "      <td>None</td>\n",
       "    </tr>\n",
       "    <tr>\n",
       "      <th>f90a3a8433414d21819172dd34e16b94</th>\n",
       "      <td>2020-09-26 23:18:24</td>\n",
       "      <td>0.431766</td>\n",
       "      <td>Lasso</td>\n",
       "      <td>NaN</td>\n",
       "      <td>NaN</td>\n",
       "      <td>NaN</td>\n",
       "      <td>NaN</td>\n",
       "      <td>NaN</td>\n",
       "      <td>NaN</td>\n",
       "      <td>NaN</td>\n",
       "      <td>...</td>\n",
       "      <td>0.0001</td>\n",
       "      <td>NaN</td>\n",
       "      <td>NaN</td>\n",
       "      <td>NaN</td>\n",
       "      <td>NaN</td>\n",
       "      <td>NaN</td>\n",
       "      <td>NaN</td>\n",
       "      <td>NaN</td>\n",
       "      <td>NaN</td>\n",
       "      <td>None</td>\n",
       "    </tr>\n",
       "    <tr>\n",
       "      <th>my_uuid</th>\n",
       "      <td>2020-09-26 23:18:24</td>\n",
       "      <td>0.030419</td>\n",
       "      <td>SVR</td>\n",
       "      <td>NaN</td>\n",
       "      <td>NaN</td>\n",
       "      <td>NaN</td>\n",
       "      <td>NaN</td>\n",
       "      <td>NaN</td>\n",
       "      <td>NaN</td>\n",
       "      <td>NaN</td>\n",
       "      <td>...</td>\n",
       "      <td>0.0010</td>\n",
       "      <td>1.0</td>\n",
       "      <td>200.0</td>\n",
       "      <td>0.0</td>\n",
       "      <td>3.0</td>\n",
       "      <td>0.1</td>\n",
       "      <td>scale</td>\n",
       "      <td>rbf</td>\n",
       "      <td>True</td>\n",
       "      <td>None</td>\n",
       "    </tr>\n",
       "  </tbody>\n",
       "</table>\n",
       "<p>4 rows × 39 columns</p>\n",
       "</div>"
      ],
      "text/plain": [
       "                                              created       mse  \\\n",
       "uuid                                                              \n",
       "27c6471f2f46484e93380b18149d56e6  2020-09-26 23:18:24  0.008522   \n",
       "d990ea2ad1b144aaaed0e5d44d7948f1  2020-09-26 23:18:24  0.042600   \n",
       "f90a3a8433414d21819172dd34e16b94  2020-09-26 23:18:24  0.431766   \n",
       "my_uuid                           2020-09-26 23:18:24  0.030419   \n",
       "\n",
       "                                                  model bootstrap  ccp_alpha  \\\n",
       "uuid                                                                           \n",
       "27c6471f2f46484e93380b18149d56e6  RandomForestRegressor      True        0.0   \n",
       "d990ea2ad1b144aaaed0e5d44d7948f1       LinearRegression       NaN        NaN   \n",
       "f90a3a8433414d21819172dd34e16b94                  Lasso       NaN        NaN   \n",
       "my_uuid                                             SVR       NaN        NaN   \n",
       "\n",
       "                                 criterion  max_depth max_features  \\\n",
       "uuid                                                                 \n",
       "27c6471f2f46484e93380b18149d56e6       mse        NaN         auto   \n",
       "d990ea2ad1b144aaaed0e5d44d7948f1       NaN        NaN          NaN   \n",
       "f90a3a8433414d21819172dd34e16b94       NaN        NaN          NaN   \n",
       "my_uuid                                NaN        NaN          NaN   \n",
       "\n",
       "                                  max_leaf_nodes  max_samples  ...     tol  \\\n",
       "uuid                                                           ...           \n",
       "27c6471f2f46484e93380b18149d56e6             NaN          NaN  ...     NaN   \n",
       "d990ea2ad1b144aaaed0e5d44d7948f1             NaN          NaN  ...     NaN   \n",
       "f90a3a8433414d21819172dd34e16b94             NaN          NaN  ...  0.0001   \n",
       "my_uuid                                      NaN          NaN  ...  0.0010   \n",
       "\n",
       "                                    C  cache_size  coef0  degree  epsilon  \\\n",
       "uuid                                                                        \n",
       "27c6471f2f46484e93380b18149d56e6  NaN         NaN    NaN     NaN      NaN   \n",
       "d990ea2ad1b144aaaed0e5d44d7948f1  NaN         NaN    NaN     NaN      NaN   \n",
       "f90a3a8433414d21819172dd34e16b94  NaN         NaN    NaN     NaN      NaN   \n",
       "my_uuid                           1.0       200.0    0.0     3.0      0.1   \n",
       "\n",
       "                                  gamma kernel  shrinking  \\\n",
       "uuid                                                        \n",
       "27c6471f2f46484e93380b18149d56e6    NaN    NaN        NaN   \n",
       "d990ea2ad1b144aaaed0e5d44d7948f1    NaN    NaN        NaN   \n",
       "f90a3a8433414d21819172dd34e16b94    NaN    NaN        NaN   \n",
       "my_uuid                           scale    rbf       True   \n",
       "\n",
       "                                                     comment  \n",
       "uuid                                                          \n",
       "27c6471f2f46484e93380b18149d56e6  Best performing experiment  \n",
       "d990ea2ad1b144aaaed0e5d44d7948f1                        None  \n",
       "f90a3a8433414d21819172dd34e16b94                        None  \n",
       "my_uuid                                                 None  \n",
       "\n",
       "[4 rows x 39 columns]"
      ]
     },
     "execution_count": 13,
     "metadata": {},
     "output_type": "execute_result"
    }
   ],
   "source": [
    "df = tracker.recent(normalize=True)\n",
    "df"
   ]
  },
  {
   "cell_type": "code",
   "execution_count": 14,
   "metadata": {
    "execution": {
     "iopub.execute_input": "2020-09-26T23:18:25.446067Z",
     "iopub.status.busy": "2020-09-26T23:18:25.445400Z",
     "iopub.status.idle": "2020-09-26T23:18:25.447630Z",
     "shell.execute_reply": "2020-09-26T23:18:25.448142Z"
    },
    "papermill": {
     "duration": 0.020924,
     "end_time": "2020-09-26T23:18:25.448390",
     "exception": false,
     "start_time": "2020-09-26T23:18:25.427466",
     "status": "completed"
    },
    "tags": []
   },
   "outputs": [],
   "source": [
    "# delete our example database\n",
    "from pathlib import Path\n",
    "Path('my_experiments.db').unlink()"
   ]
  }
 ],
 "metadata": {
  "jupytext": {
   "cell_metadata_filter": "tags,-all",
   "main_language": "python",
   "notebook_metadata_filter": "-all",
   "text_representation": {
    "extension": ".md",
    "format_name": "markdown"
   }
  },
  "kernelspec": {
   "display_name": "Python 3",
   "language": "python",
   "name": "python3"
  },
  "language_info": {
   "codemirror_mode": {
    "name": "ipython",
    "version": 3
   },
   "file_extension": ".py",
   "mimetype": "text/x-python",
   "name": "python",
   "nbconvert_exporter": "python",
   "pygments_lexer": "ipython3",
   "version": "3.6.10"
  },
  "papermill": {
   "duration": 3.634182,
   "end_time": "2020-09-26T23:18:25.880109",
   "environment_variables": {},
   "exception": null,
   "input_path": "/var/folders/3h/_lvh_w_x5g30rrjzb_xnn2j80000gq/T/tmpixpbgb31.ipynb",
   "output_path": "source/user_guide/SQLiteTracker.ipynb",
   "parameters": {
    "product": "source/user_guide/SQLiteTracker.ipynb"
   },
   "start_time": "2020-09-26T23:18:22.245927",
   "version": "2.1.3"
  }
 },
 "nbformat": 4,
 "nbformat_minor": 4
}