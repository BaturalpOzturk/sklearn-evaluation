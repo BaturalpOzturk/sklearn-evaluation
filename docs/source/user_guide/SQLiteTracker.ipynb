{
 "cells": [
  {
   "cell_type": "markdown",
   "metadata": {
    "papermill": {
     "duration": 0.00868,
     "end_time": "2020-09-26T17:16:13.695448",
     "exception": false,
     "start_time": "2020-09-26T17:16:13.686768",
     "status": "completed"
    },
    "tags": []
   },
   "source": [
    "# Tracking Machine Learning experiments"
   ]
  },
  {
   "cell_type": "code",
   "execution_count": 1,
   "metadata": {
    "execution": {
     "iopub.execute_input": "2020-09-26T17:16:13.712011Z",
     "iopub.status.busy": "2020-09-26T17:16:13.711370Z",
     "iopub.status.idle": "2020-09-26T17:16:14.693072Z",
     "shell.execute_reply": "2020-09-26T17:16:14.693605Z"
    },
    "papermill": {
     "duration": 0.992047,
     "end_time": "2020-09-26T17:16:14.693945",
     "exception": false,
     "start_time": "2020-09-26T17:16:13.701898",
     "status": "completed"
    },
    "tags": []
   },
   "outputs": [],
   "source": [
    "from sklearn_evaluation.manage.SQLiteTracker import SQLiteTracker"
   ]
  },
  {
   "cell_type": "code",
   "execution_count": 2,
   "metadata": {
    "execution": {
     "iopub.execute_input": "2020-09-26T17:16:14.710195Z",
     "iopub.status.busy": "2020-09-26T17:16:14.709045Z",
     "iopub.status.idle": "2020-09-26T17:16:14.711758Z",
     "shell.execute_reply": "2020-09-26T17:16:14.712412Z"
    },
    "papermill": {
     "duration": 0.013052,
     "end_time": "2020-09-26T17:16:14.712661",
     "exception": false,
     "start_time": "2020-09-26T17:16:14.699609",
     "status": "completed"
    },
    "tags": [
     "parameters"
    ]
   },
   "outputs": [],
   "source": [
    "tracker = SQLiteTracker(':memory:')"
   ]
  },
  {
   "cell_type": "code",
   "execution_count": 3,
   "metadata": {
    "execution": {
     "iopub.execute_input": "2020-09-26T17:16:14.728951Z",
     "iopub.status.busy": "2020-09-26T17:16:14.728258Z",
     "iopub.status.idle": "2020-09-26T17:16:14.730592Z",
     "shell.execute_reply": "2020-09-26T17:16:14.731070Z"
    },
    "papermill": {
     "duration": 0.011982,
     "end_time": "2020-09-26T17:16:14.731289",
     "exception": false,
     "start_time": "2020-09-26T17:16:14.719307",
     "status": "completed"
    },
    "tags": [
     "injected-parameters"
    ]
   },
   "outputs": [],
   "source": [
    "# Parameters\n",
    "product = \"source/user_guide/SQLiteTracker.ipynb\"\n"
   ]
  },
  {
   "cell_type": "code",
   "execution_count": 4,
   "metadata": {
    "execution": {
     "iopub.execute_input": "2020-09-26T17:16:14.747407Z",
     "iopub.status.busy": "2020-09-26T17:16:14.746701Z",
     "iopub.status.idle": "2020-09-26T17:16:14.753101Z",
     "shell.execute_reply": "2020-09-26T17:16:14.753568Z"
    },
    "papermill": {
     "duration": 0.016647,
     "end_time": "2020-09-26T17:16:14.753778",
     "exception": false,
     "start_time": "2020-09-26T17:16:14.737131",
     "status": "completed"
    },
    "tags": []
   },
   "outputs": [
    {
     "data": {
      "text/html": [
       "<h4> SQLiteTracker </h4>(No experiments saved yet)<table>\n",
       "<thead>\n",
       "<tr></tr>\n",
       "</thead>\n",
       "<tbody>\n",
       "</tbody>\n",
       "</table>"
      ],
      "text/plain": [
       "SQLiteTracker\n",
       "(No experiments saved yet)\n",
       "+--------+-----------+-----------+-----------+\n",
       "| uuid   | created   | content   | comment   |\n",
       "+========+===========+===========+===========+\n",
       "+--------+-----------+-----------+-----------+"
      ]
     },
     "execution_count": 4,
     "metadata": {},
     "output_type": "execute_result"
    }
   ],
   "source": [
    "tracker"
   ]
  },
  {
   "cell_type": "code",
   "execution_count": 5,
   "metadata": {
    "execution": {
     "iopub.execute_input": "2020-09-26T17:16:14.769750Z",
     "iopub.status.busy": "2020-09-26T17:16:14.768930Z",
     "iopub.status.idle": "2020-09-26T17:16:14.771422Z",
     "shell.execute_reply": "2020-09-26T17:16:14.771925Z"
    },
    "papermill": {
     "duration": 0.012456,
     "end_time": "2020-09-26T17:16:14.772159",
     "exception": false,
     "start_time": "2020-09-26T17:16:14.759703",
     "status": "completed"
    },
    "tags": []
   },
   "outputs": [],
   "source": [
    "uuid = tracker.new()"
   ]
  },
  {
   "cell_type": "code",
   "execution_count": 6,
   "metadata": {
    "execution": {
     "iopub.execute_input": "2020-09-26T17:16:14.787315Z",
     "iopub.status.busy": "2020-09-26T17:16:14.786665Z",
     "iopub.status.idle": "2020-09-26T17:16:14.789297Z",
     "shell.execute_reply": "2020-09-26T17:16:14.789802Z"
    },
    "papermill": {
     "duration": 0.012092,
     "end_time": "2020-09-26T17:16:14.790032",
     "exception": false,
     "start_time": "2020-09-26T17:16:14.777940",
     "status": "completed"
    },
    "tags": []
   },
   "outputs": [],
   "source": [
    "tracker.update(uuid, {'accuracy': 0.85})"
   ]
  },
  {
   "cell_type": "code",
   "execution_count": 7,
   "metadata": {
    "execution": {
     "iopub.execute_input": "2020-09-26T17:16:14.806293Z",
     "iopub.status.busy": "2020-09-26T17:16:14.805559Z",
     "iopub.status.idle": "2020-09-26T17:16:14.809403Z",
     "shell.execute_reply": "2020-09-26T17:16:14.808841Z"
    },
    "papermill": {
     "duration": 0.013686,
     "end_time": "2020-09-26T17:16:14.809603",
     "exception": false,
     "start_time": "2020-09-26T17:16:14.795917",
     "status": "completed"
    },
    "tags": []
   },
   "outputs": [
    {
     "data": {
      "text/html": [
       "<h4> SQLiteTracker </h4><table>\n",
       "<thead>\n",
       "<tr><th>uuid                            </th><th>created            </th><th>content           </th><th>comment  </th></tr>\n",
       "</thead>\n",
       "<tbody>\n",
       "<tr><td>972ccc2bf8e34aaea90d99fc147c8447</td><td>2020-09-26 17:16:14</td><td>{&quot;accuracy&quot;: 0.85}</td><td>         </td></tr>\n",
       "</tbody>\n",
       "</table><br>(Most recent experiments)"
      ],
      "text/plain": [
       "SQLiteTracker\n",
       "+----------------------------------+---------------------+--------------------+-----------+\n",
       "| uuid                             | created             | content            | comment   |\n",
       "+==================================+=====================+====================+===========+\n",
       "| 972ccc2bf8e34aaea90d99fc147c8447 | 2020-09-26 17:16:14 | {\"accuracy\": 0.85} |           |\n",
       "+----------------------------------+---------------------+--------------------+-----------+\n",
       "(Most recent experiments)"
      ]
     },
     "execution_count": 7,
     "metadata": {},
     "output_type": "execute_result"
    }
   ],
   "source": [
    "tracker"
   ]
  },
  {
   "cell_type": "code",
   "execution_count": 8,
   "metadata": {
    "execution": {
     "iopub.execute_input": "2020-09-26T17:16:14.827682Z",
     "iopub.status.busy": "2020-09-26T17:16:14.826944Z",
     "iopub.status.idle": "2020-09-26T17:16:14.829503Z",
     "shell.execute_reply": "2020-09-26T17:16:14.830051Z"
    },
    "papermill": {
     "duration": 0.014137,
     "end_time": "2020-09-26T17:16:14.830303",
     "exception": false,
     "start_time": "2020-09-26T17:16:14.816166",
     "status": "completed"
    },
    "tags": []
   },
   "outputs": [],
   "source": [
    "tracker.comment(uuid, 'My experiment')"
   ]
  },
  {
   "cell_type": "code",
   "execution_count": 9,
   "metadata": {
    "execution": {
     "iopub.execute_input": "2020-09-26T17:16:14.847984Z",
     "iopub.status.busy": "2020-09-26T17:16:14.847256Z",
     "iopub.status.idle": "2020-09-26T17:16:14.850865Z",
     "shell.execute_reply": "2020-09-26T17:16:14.851335Z"
    },
    "papermill": {
     "duration": 0.0142,
     "end_time": "2020-09-26T17:16:14.851569",
     "exception": false,
     "start_time": "2020-09-26T17:16:14.837369",
     "status": "completed"
    },
    "tags": []
   },
   "outputs": [
    {
     "data": {
      "text/html": [
       "<h4> SQLiteTracker </h4><table>\n",
       "<thead>\n",
       "<tr><th>uuid                            </th><th>created            </th><th>content           </th><th>comment      </th></tr>\n",
       "</thead>\n",
       "<tbody>\n",
       "<tr><td>972ccc2bf8e34aaea90d99fc147c8447</td><td>2020-09-26 17:16:14</td><td>{&quot;accuracy&quot;: 0.85}</td><td>My experiment</td></tr>\n",
       "</tbody>\n",
       "</table><br>(Most recent experiments)"
      ],
      "text/plain": [
       "SQLiteTracker\n",
       "+----------------------------------+---------------------+--------------------+---------------+\n",
       "| uuid                             | created             | content            | comment       |\n",
       "+==================================+=====================+====================+===============+\n",
       "| 972ccc2bf8e34aaea90d99fc147c8447 | 2020-09-26 17:16:14 | {\"accuracy\": 0.85} | My experiment |\n",
       "+----------------------------------+---------------------+--------------------+---------------+\n",
       "(Most recent experiments)"
      ]
     },
     "execution_count": 9,
     "metadata": {},
     "output_type": "execute_result"
    }
   ],
   "source": [
    "tracker"
   ]
  }
 ],
 "metadata": {
  "jupytext": {
   "cell_metadata_filter": "tags,-all",
   "main_language": "python",
   "notebook_metadata_filter": "-all",
   "text_representation": {
    "extension": ".py",
    "format_name": "light"
   }
  },
  "kernelspec": {
   "display_name": "Python 3",
   "language": "python",
   "name": "python3"
  },
  "language_info": {
   "codemirror_mode": {
    "name": "ipython",
    "version": 3
   },
   "file_extension": ".py",
   "mimetype": "text/x-python",
   "name": "python",
   "nbconvert_exporter": "python",
   "pygments_lexer": "ipython3",
   "version": "3.7.8"
  },
  "papermill": {
   "default_parameters": {},
   "duration": 2.302514,
   "end_time": "2020-09-26T17:16:15.175273",
   "environment_variables": {},
   "exception": null,
   "input_path": "/var/folders/3h/_lvh_w_x5g30rrjzb_xnn2j80000gq/T/tmpfxrgc06i.ipynb",
   "output_path": "source/user_guide/SQLiteTracker.ipynb",
   "parameters": {
    "product": "source/user_guide/SQLiteTracker.ipynb"
   },
   "start_time": "2020-09-26T17:16:12.872759",
   "version": "2.2.0"
  }
 },
 "nbformat": 4,
 "nbformat_minor": 4
}