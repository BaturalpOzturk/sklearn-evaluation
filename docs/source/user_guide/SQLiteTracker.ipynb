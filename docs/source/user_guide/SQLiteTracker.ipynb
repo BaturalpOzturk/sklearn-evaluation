{
 "cells": [
  {
   "cell_type": "markdown",
   "metadata": {
    "papermill": {
     "duration": 0.013195,
     "end_time": "2020-12-14T23:48:16.097886",
     "exception": false,
     "start_time": "2020-12-14T23:48:16.084691",
     "status": "completed"
    },
    "tags": []
   },
   "source": [
    "# Tracking Machine Learning experiments\n",
    "\n",
    "`SQLiteTracker` provides a simple yet powerful way to track ML experiments using a SQLite database."
   ]
  },
  {
   "cell_type": "code",
   "execution_count": 1,
   "metadata": {
    "execution": {
     "iopub.execute_input": "2020-12-14T23:48:16.126795Z",
     "iopub.status.busy": "2020-12-14T23:48:16.126075Z",
     "iopub.status.idle": "2020-12-14T23:48:17.496562Z",
     "shell.execute_reply": "2020-12-14T23:48:17.497139Z"
    },
    "papermill": {
     "duration": 1.389552,
     "end_time": "2020-12-14T23:48:17.497576",
     "exception": false,
     "start_time": "2020-12-14T23:48:16.108024",
     "status": "completed"
    },
    "tags": []
   },
   "outputs": [],
   "source": [
    "from sklearn_evaluation import SQLiteTracker\n",
    "\n",
    "from sklearn.datasets import load_iris\n",
    "from sklearn.ensemble import RandomForestRegressor\n",
    "from sklearn.linear_model import LinearRegression, Lasso\n",
    "from sklearn.svm import SVR\n",
    "from sklearn.model_selection import train_test_split\n",
    "from sklearn.metrics import mean_squared_error"
   ]
  },
  {
   "cell_type": "code",
   "execution_count": 2,
   "metadata": {
    "execution": {
     "iopub.execute_input": "2020-12-14T23:48:17.523432Z",
     "iopub.status.busy": "2020-12-14T23:48:17.522634Z",
     "iopub.status.idle": "2020-12-14T23:48:17.527609Z",
     "shell.execute_reply": "2020-12-14T23:48:17.527025Z"
    },
    "papermill": {
     "duration": 0.019258,
     "end_time": "2020-12-14T23:48:17.527803",
     "exception": false,
     "start_time": "2020-12-14T23:48:17.508545",
     "status": "completed"
    },
    "tags": [
     "parameters"
    ]
   },
   "outputs": [],
   "source": [
    "tracker = SQLiteTracker('my_experiments.db')"
   ]
  },
  {
   "cell_type": "code",
   "execution_count": 3,
   "metadata": {
    "execution": {
     "iopub.execute_input": "2020-12-14T23:48:17.552179Z",
     "iopub.status.busy": "2020-12-14T23:48:17.551443Z",
     "iopub.status.idle": "2020-12-14T23:48:17.553592Z",
     "shell.execute_reply": "2020-12-14T23:48:17.554073Z"
    },
    "papermill": {
     "duration": 0.015869,
     "end_time": "2020-12-14T23:48:17.554300",
     "exception": false,
     "start_time": "2020-12-14T23:48:17.538431",
     "status": "completed"
    },
    "tags": [
     "injected-parameters"
    ]
   },
   "outputs": [],
   "source": [
    "# Parameters\n",
    "product = \"source/user_guide/SQLiteTracker.ipynb\"\n"
   ]
  },
  {
   "cell_type": "code",
   "execution_count": 4,
   "metadata": {
    "execution": {
     "iopub.execute_input": "2020-12-14T23:48:17.578697Z",
     "iopub.status.busy": "2020-12-14T23:48:17.578067Z",
     "iopub.status.idle": "2020-12-14T23:48:17.586740Z",
     "shell.execute_reply": "2020-12-14T23:48:17.587256Z"
    },
    "papermill": {
     "duration": 0.02364,
     "end_time": "2020-12-14T23:48:17.587471",
     "exception": false,
     "start_time": "2020-12-14T23:48:17.563831",
     "status": "completed"
    },
    "tags": []
   },
   "outputs": [],
   "source": [
    "iris = load_iris(as_frame=True)\n",
    "X, y = iris['data'], iris['target']\n",
    "X_train, X_test, y_train, y_test = train_test_split(X, y, test_size=0.33, random_state=42)\n",
    "\n",
    "models = [RandomForestRegressor(), LinearRegression(), Lasso()]"
   ]
  },
  {
   "cell_type": "code",
   "execution_count": 5,
   "metadata": {
    "execution": {
     "iopub.execute_input": "2020-12-14T23:48:17.612573Z",
     "iopub.status.busy": "2020-12-14T23:48:17.611788Z",
     "iopub.status.idle": "2020-12-14T23:48:17.761985Z",
     "shell.execute_reply": "2020-12-14T23:48:17.762453Z"
    },
    "papermill": {
     "duration": 0.165467,
     "end_time": "2020-12-14T23:48:17.762678",
     "exception": false,
     "start_time": "2020-12-14T23:48:17.597211",
     "status": "completed"
    },
    "tags": []
   },
   "outputs": [
    {
     "name": "stdout",
     "output_type": "stream",
     "text": [
      "Fitting RandomForestRegressor\n",
      "Fitting LinearRegression\n",
      "Fitting Lasso\n"
     ]
    }
   ],
   "source": [
    "for m in models:\n",
    "    model = type(m).__name__\n",
    "    print(f'Fitting {model}')\n",
    "\n",
    "    # .new() returns a uuid and creates an entry in the db\n",
    "    uuid = tracker.new()\n",
    "    m.fit(X_train, y_train)\n",
    "    y_pred = m.predict(X_test)\n",
    "    mse = mean_squared_error(y_test, y_pred)\n",
    "\n",
    "    # add data with the .update(uuid, {'param': 'value'}) method\n",
    "    tracker.update(uuid, {'mse': mse, 'model': model, **m.get_params()})"
   ]
  },
  {
   "cell_type": "markdown",
   "metadata": {
    "papermill": {
     "duration": 0.010209,
     "end_time": "2020-12-14T23:48:17.783787",
     "exception": false,
     "start_time": "2020-12-14T23:48:17.773578",
     "status": "completed"
    },
    "tags": []
   },
   "source": [
    "Or use `.insert(uuid, params)` to supply your own ID:"
   ]
  },
  {
   "cell_type": "code",
   "execution_count": 6,
   "metadata": {
    "execution": {
     "iopub.execute_input": "2020-12-14T23:48:17.811833Z",
     "iopub.status.busy": "2020-12-14T23:48:17.811196Z",
     "iopub.status.idle": "2020-12-14T23:48:17.817615Z",
     "shell.execute_reply": "2020-12-14T23:48:17.818189Z"
    },
    "papermill": {
     "duration": 0.024403,
     "end_time": "2020-12-14T23:48:17.818427",
     "exception": false,
     "start_time": "2020-12-14T23:48:17.794024",
     "status": "completed"
    },
    "tags": []
   },
   "outputs": [],
   "source": [
    "svr = SVR()\n",
    "svr.fit(X_train, y_train)\n",
    "y_pred = svr.predict(X_test)\n",
    "mse = mean_squared_error(y_test, y_pred)\n",
    "\n",
    "tracker.insert('my_uuid', {'mse': mse, 'model': type(svr).__name__, **svr.get_params()})"
   ]
  },
  {
   "cell_type": "markdown",
   "metadata": {
    "papermill": {
     "duration": 0.010562,
     "end_time": "2020-12-14T23:48:17.839578",
     "exception": false,
     "start_time": "2020-12-14T23:48:17.829016",
     "status": "completed"
    },
    "tags": []
   },
   "source": [
    "`tracker` shows last experiments by default:"
   ]
  },
  {
   "cell_type": "code",
   "execution_count": 7,
   "metadata": {
    "execution": {
     "iopub.execute_input": "2020-12-14T23:48:17.864815Z",
     "iopub.status.busy": "2020-12-14T23:48:17.864197Z",
     "iopub.status.idle": "2020-12-14T23:48:17.872690Z",
     "shell.execute_reply": "2020-12-14T23:48:17.873174Z"
    },
    "papermill": {
     "duration": 0.023762,
     "end_time": "2020-12-14T23:48:17.873408",
     "exception": false,
     "start_time": "2020-12-14T23:48:17.849646",
     "status": "completed"
    },
    "tags": []
   },
   "outputs": [
    {
     "data": {
      "text/html": [
       "<h4> SQLiteTracker </h4><table>\n",
       "<thead>\n",
       "<tr><th>uuid                            </th><th>created            </th><th>parameters                                                                                                                                                                                                                                                                                                                                                                                                                                                                  </th><th>comment  </th></tr>\n",
       "</thead>\n",
       "<tbody>\n",
       "<tr><td>3d1a84bb82b842ec8d32dc7f33e890d4</td><td>2020-12-14 23:48:17</td><td>{&quot;mse&quot;: 0.008444000000000002, &quot;model&quot;: &quot;RandomForestRegressor&quot;, &quot;bootstrap&quot;: true, &quot;ccp_alpha&quot;: 0.0, &quot;criterion&quot;: &quot;mse&quot;, &quot;max_depth&quot;: null, &quot;max_features&quot;: &quot;auto&quot;, &quot;max_leaf_nodes&quot;: null, &quot;max_samples&quot;: null, &quot;min_impurity_decrease&quot;: 0.0, &quot;min_impurity_split&quot;: null, &quot;min_samples_leaf&quot;: 1, &quot;min_samples_split&quot;: 2, &quot;min_weight_fraction_leaf&quot;: 0.0, &quot;n_estimators&quot;: 100, &quot;n_jobs&quot;: null, &quot;oob_score&quot;: false, &quot;random_state&quot;: null, &quot;verbose&quot;: 0, &quot;warm_start&quot;: false}</td><td>         </td></tr>\n",
       "<tr><td>feb6bfbdc11f422db2c66e90467a570f</td><td>2020-12-14 23:48:17</td><td>{&quot;mse&quot;: 0.04260034113761788, &quot;model&quot;: &quot;LinearRegression&quot;, &quot;copy_X&quot;: true, &quot;fit_intercept&quot;: true, &quot;n_jobs&quot;: null, &quot;normalize&quot;: false}                                                                                                                                                                                                                                                                                                                                        </td><td>         </td></tr>\n",
       "<tr><td>b2cd46c95d274bbeb106b04e61d50989</td><td>2020-12-14 23:48:17</td><td>{&quot;mse&quot;: 0.4317655183287657, &quot;model&quot;: &quot;Lasso&quot;, &quot;alpha&quot;: 1.0, &quot;copy_X&quot;: true, &quot;fit_intercept&quot;: true, &quot;max_iter&quot;: 1000, &quot;normalize&quot;: false, &quot;positive&quot;: false, &quot;precompute&quot;: false, &quot;random_state&quot;: null, &quot;selection&quot;: &quot;cyclic&quot;, &quot;tol&quot;: 0.0001, &quot;warm_start&quot;: false}                                                                                                                                                                                                           </td><td>         </td></tr>\n",
       "<tr><td>my_uuid                         </td><td>2020-12-14 23:48:17</td><td>{&quot;mse&quot;: 0.030419125413621413, &quot;model&quot;: &quot;SVR&quot;, &quot;C&quot;: 1.0, &quot;cache_size&quot;: 200, &quot;coef0&quot;: 0.0, &quot;degree&quot;: 3, &quot;epsilon&quot;: 0.1, &quot;gamma&quot;: &quot;scale&quot;, &quot;kernel&quot;: &quot;rbf&quot;, &quot;max_iter&quot;: -1, &quot;shrinking&quot;: true, &quot;tol&quot;: 0.001, &quot;verbose&quot;: false}                                                                                                                                                                                                                                                 </td><td>         </td></tr>\n",
       "</tbody>\n",
       "</table><br>(Most recent experiments)"
      ],
      "text/plain": [
       "SQLiteTracker\n",
       "+----------------------------------+---------------------+------------------------------------------------------------------------------------------------------------------------------------------------------------------------------------------------------------------------------------------------------------------------------------------------------------------------------------------------------------------------------------------------------------------------------------------------------------------------------+-----------+\n",
       "| uuid                             | created             | parameters                                                                                                                                                                                                                                                                                                                                                                                                                                                                   | comment   |\n",
       "+==================================+=====================+==============================================================================================================================================================================================================================================================================================================================================================================================================================================================================+===========+\n",
       "| 3d1a84bb82b842ec8d32dc7f33e890d4 | 2020-12-14 23:48:17 | {\"mse\": 0.008444000000000002, \"model\": \"RandomForestRegressor\", \"bootstrap\": true, \"ccp_alpha\": 0.0, \"criterion\": \"mse\", \"max_depth\": null, \"max_features\": \"auto\", \"max_leaf_nodes\": null, \"max_samples\": null, \"min_impurity_decrease\": 0.0, \"min_impurity_split\": null, \"min_samples_leaf\": 1, \"min_samples_split\": 2, \"min_weight_fraction_leaf\": 0.0, \"n_estimators\": 100, \"n_jobs\": null, \"oob_score\": false, \"random_state\": null, \"verbose\": 0, \"warm_start\": false} |           |\n",
       "+----------------------------------+---------------------+------------------------------------------------------------------------------------------------------------------------------------------------------------------------------------------------------------------------------------------------------------------------------------------------------------------------------------------------------------------------------------------------------------------------------------------------------------------------------+-----------+\n",
       "| feb6bfbdc11f422db2c66e90467a570f | 2020-12-14 23:48:17 | {\"mse\": 0.04260034113761788, \"model\": \"LinearRegression\", \"copy_X\": true, \"fit_intercept\": true, \"n_jobs\": null, \"normalize\": false}                                                                                                                                                                                                                                                                                                                                         |           |\n",
       "+----------------------------------+---------------------+------------------------------------------------------------------------------------------------------------------------------------------------------------------------------------------------------------------------------------------------------------------------------------------------------------------------------------------------------------------------------------------------------------------------------------------------------------------------------+-----------+\n",
       "| b2cd46c95d274bbeb106b04e61d50989 | 2020-12-14 23:48:17 | {\"mse\": 0.4317655183287657, \"model\": \"Lasso\", \"alpha\": 1.0, \"copy_X\": true, \"fit_intercept\": true, \"max_iter\": 1000, \"normalize\": false, \"positive\": false, \"precompute\": false, \"random_state\": null, \"selection\": \"cyclic\", \"tol\": 0.0001, \"warm_start\": false}                                                                                                                                                                                                            |           |\n",
       "+----------------------------------+---------------------+------------------------------------------------------------------------------------------------------------------------------------------------------------------------------------------------------------------------------------------------------------------------------------------------------------------------------------------------------------------------------------------------------------------------------------------------------------------------------+-----------+\n",
       "| my_uuid                          | 2020-12-14 23:48:17 | {\"mse\": 0.030419125413621413, \"model\": \"SVR\", \"C\": 1.0, \"cache_size\": 200, \"coef0\": 0.0, \"degree\": 3, \"epsilon\": 0.1, \"gamma\": \"scale\", \"kernel\": \"rbf\", \"max_iter\": -1, \"shrinking\": true, \"tol\": 0.001, \"verbose\": false}                                                                                                                                                                                                                                                  |           |\n",
       "+----------------------------------+---------------------+------------------------------------------------------------------------------------------------------------------------------------------------------------------------------------------------------------------------------------------------------------------------------------------------------------------------------------------------------------------------------------------------------------------------------------------------------------------------------+-----------+\n",
       "(Most recent experiments)"
      ]
     },
     "execution_count": 7,
     "metadata": {},
     "output_type": "execute_result"
    }
   ],
   "source": [
    "tracker"
   ]
  },
  {
   "cell_type": "markdown",
   "metadata": {
    "papermill": {
     "duration": 0.011118,
     "end_time": "2020-12-14T23:48:17.895882",
     "exception": false,
     "start_time": "2020-12-14T23:48:17.884764",
     "status": "completed"
    },
    "tags": []
   },
   "source": [
    "## Querying experiments"
   ]
  },
  {
   "cell_type": "code",
   "execution_count": 8,
   "metadata": {
    "execution": {
     "iopub.execute_input": "2020-12-14T23:48:17.924068Z",
     "iopub.status.busy": "2020-12-14T23:48:17.923444Z",
     "iopub.status.idle": "2020-12-14T23:48:18.048841Z",
     "shell.execute_reply": "2020-12-14T23:48:18.049340Z"
    },
    "papermill": {
     "duration": 0.141742,
     "end_time": "2020-12-14T23:48:18.049572",
     "exception": false,
     "start_time": "2020-12-14T23:48:17.907830",
     "status": "completed"
    },
    "tags": []
   },
   "outputs": [
    {
     "data": {
      "text/html": [
       "<div>\n",
       "<style scoped>\n",
       "    .dataframe tbody tr th:only-of-type {\n",
       "        vertical-align: middle;\n",
       "    }\n",
       "\n",
       "    .dataframe tbody tr th {\n",
       "        vertical-align: top;\n",
       "    }\n",
       "\n",
       "    .dataframe thead th {\n",
       "        text-align: right;\n",
       "    }\n",
       "</style>\n",
       "<table border=\"1\" class=\"dataframe\">\n",
       "  <thead>\n",
       "    <tr style=\"text-align: right;\">\n",
       "      <th></th>\n",
       "      <th>model</th>\n",
       "      <th>mse</th>\n",
       "    </tr>\n",
       "    <tr>\n",
       "      <th>uuid</th>\n",
       "      <th></th>\n",
       "      <th></th>\n",
       "    </tr>\n",
       "  </thead>\n",
       "  <tbody>\n",
       "    <tr>\n",
       "      <th>3d1a84bb82b842ec8d32dc7f33e890d4</th>\n",
       "      <td>RandomForestRegressor</td>\n",
       "      <td>0.008444</td>\n",
       "    </tr>\n",
       "    <tr>\n",
       "      <th>my_uuid</th>\n",
       "      <td>SVR</td>\n",
       "      <td>0.030419</td>\n",
       "    </tr>\n",
       "    <tr>\n",
       "      <th>feb6bfbdc11f422db2c66e90467a570f</th>\n",
       "      <td>LinearRegression</td>\n",
       "      <td>0.042600</td>\n",
       "    </tr>\n",
       "    <tr>\n",
       "      <th>b2cd46c95d274bbeb106b04e61d50989</th>\n",
       "      <td>Lasso</td>\n",
       "      <td>0.431766</td>\n",
       "    </tr>\n",
       "  </tbody>\n",
       "</table>\n",
       "</div>"
      ],
      "text/plain": [
       "                                                  model       mse\n",
       "uuid                                                             \n",
       "3d1a84bb82b842ec8d32dc7f33e890d4  RandomForestRegressor  0.008444\n",
       "my_uuid                                             SVR  0.030419\n",
       "feb6bfbdc11f422db2c66e90467a570f       LinearRegression  0.042600\n",
       "b2cd46c95d274bbeb106b04e61d50989                  Lasso  0.431766"
      ]
     },
     "execution_count": 8,
     "metadata": {},
     "output_type": "execute_result"
    }
   ],
   "source": [
    "ordered = tracker.query(\"\"\"\n",
    "SELECT uuid,\n",
    "       json_extract(parameters, '$.model') AS model,\n",
    "       json_extract(parameters, '$.mse') AS mse\n",
    "FROM experiments\n",
    "ORDER BY json_extract(parameters, '$.mse') ASC\n",
    "\"\"\")\n",
    "ordered"
   ]
  },
  {
   "cell_type": "markdown",
   "metadata": {
    "papermill": {
     "duration": 0.011885,
     "end_time": "2020-12-14T23:48:18.073069",
     "exception": false,
     "start_time": "2020-12-14T23:48:18.061184",
     "status": "completed"
    },
    "tags": []
   },
   "source": [
    "The query method returns a data frame with \"uuid\" as the index:"
   ]
  },
  {
   "cell_type": "code",
   "execution_count": 9,
   "metadata": {
    "execution": {
     "iopub.execute_input": "2020-12-14T23:48:18.101514Z",
     "iopub.status.busy": "2020-12-14T23:48:18.100596Z",
     "iopub.status.idle": "2020-12-14T23:48:18.103376Z",
     "shell.execute_reply": "2020-12-14T23:48:18.104072Z"
    },
    "papermill": {
     "duration": 0.019081,
     "end_time": "2020-12-14T23:48:18.104320",
     "exception": false,
     "start_time": "2020-12-14T23:48:18.085239",
     "status": "completed"
    },
    "tags": []
   },
   "outputs": [
    {
     "data": {
      "text/plain": [
       "pandas.core.frame.DataFrame"
      ]
     },
     "execution_count": 9,
     "metadata": {},
     "output_type": "execute_result"
    }
   ],
   "source": [
    "type(ordered)"
   ]
  },
  {
   "cell_type": "markdown",
   "metadata": {
    "papermill": {
     "duration": 0.012506,
     "end_time": "2020-12-14T23:48:18.128864",
     "exception": false,
     "start_time": "2020-12-14T23:48:18.116358",
     "status": "completed"
    },
    "tags": []
   },
   "source": [
    "## Adding comments\n"
   ]
  },
  {
   "cell_type": "code",
   "execution_count": 10,
   "metadata": {
    "execution": {
     "iopub.execute_input": "2020-12-14T23:48:18.156178Z",
     "iopub.status.busy": "2020-12-14T23:48:18.155393Z",
     "iopub.status.idle": "2020-12-14T23:48:18.159301Z",
     "shell.execute_reply": "2020-12-14T23:48:18.159822Z"
    },
    "papermill": {
     "duration": 0.019794,
     "end_time": "2020-12-14T23:48:18.160074",
     "exception": false,
     "start_time": "2020-12-14T23:48:18.140280",
     "status": "completed"
    },
    "tags": []
   },
   "outputs": [],
   "source": [
    "tracker.comment(ordered.index[0], 'Best performing experiment')"
   ]
  },
  {
   "cell_type": "markdown",
   "metadata": {
    "papermill": {
     "duration": 0.012989,
     "end_time": "2020-12-14T23:48:18.185566",
     "exception": false,
     "start_time": "2020-12-14T23:48:18.172577",
     "status": "completed"
    },
    "tags": []
   },
   "source": [
    "User `tracker[uuid]` to get a single experiment:"
   ]
  },
  {
   "cell_type": "code",
   "execution_count": 11,
   "metadata": {
    "execution": {
     "iopub.execute_input": "2020-12-14T23:48:18.213157Z",
     "iopub.status.busy": "2020-12-14T23:48:18.212539Z",
     "iopub.status.idle": "2020-12-14T23:48:18.221367Z",
     "shell.execute_reply": "2020-12-14T23:48:18.222121Z"
    },
    "papermill": {
     "duration": 0.025054,
     "end_time": "2020-12-14T23:48:18.222358",
     "exception": false,
     "start_time": "2020-12-14T23:48:18.197304",
     "status": "completed"
    },
    "tags": []
   },
   "outputs": [
    {
     "data": {
      "text/html": [
       "<div>\n",
       "<style scoped>\n",
       "    .dataframe tbody tr th:only-of-type {\n",
       "        vertical-align: middle;\n",
       "    }\n",
       "\n",
       "    .dataframe tbody tr th {\n",
       "        vertical-align: top;\n",
       "    }\n",
       "\n",
       "    .dataframe thead th {\n",
       "        text-align: right;\n",
       "    }\n",
       "</style>\n",
       "<table border=\"1\" class=\"dataframe\">\n",
       "  <thead>\n",
       "    <tr style=\"text-align: right;\">\n",
       "      <th></th>\n",
       "      <th>created</th>\n",
       "      <th>parameters</th>\n",
       "      <th>comment</th>\n",
       "    </tr>\n",
       "    <tr>\n",
       "      <th>uuid</th>\n",
       "      <th></th>\n",
       "      <th></th>\n",
       "      <th></th>\n",
       "    </tr>\n",
       "  </thead>\n",
       "  <tbody>\n",
       "    <tr>\n",
       "      <th>3d1a84bb82b842ec8d32dc7f33e890d4</th>\n",
       "      <td>2020-12-14 23:48:17</td>\n",
       "      <td>{\"mse\": 0.008444000000000002, \"model\": \"Random...</td>\n",
       "      <td>Best performing experiment</td>\n",
       "    </tr>\n",
       "  </tbody>\n",
       "</table>\n",
       "</div>"
      ],
      "text/plain": [
       "                                              created  \\\n",
       "uuid                                                    \n",
       "3d1a84bb82b842ec8d32dc7f33e890d4  2020-12-14 23:48:17   \n",
       "\n",
       "                                                                         parameters  \\\n",
       "uuid                                                                                  \n",
       "3d1a84bb82b842ec8d32dc7f33e890d4  {\"mse\": 0.008444000000000002, \"model\": \"Random...   \n",
       "\n",
       "                                                     comment  \n",
       "uuid                                                          \n",
       "3d1a84bb82b842ec8d32dc7f33e890d4  Best performing experiment  "
      ]
     },
     "execution_count": 11,
     "metadata": {},
     "output_type": "execute_result"
    }
   ],
   "source": [
    "tracker[ordered.index[0]]"
   ]
  },
  {
   "cell_type": "markdown",
   "metadata": {
    "papermill": {
     "duration": 0.012267,
     "end_time": "2020-12-14T23:48:18.246943",
     "exception": false,
     "start_time": "2020-12-14T23:48:18.234676",
     "status": "completed"
    },
    "tags": []
   },
   "source": [
    "## Getting recent experiments\n",
    "\n",
    "The recent method also returns a data frame:"
   ]
  },
  {
   "cell_type": "code",
   "execution_count": 12,
   "metadata": {
    "execution": {
     "iopub.execute_input": "2020-12-14T23:48:18.281526Z",
     "iopub.status.busy": "2020-12-14T23:48:18.280737Z",
     "iopub.status.idle": "2020-12-14T23:48:18.283686Z",
     "shell.execute_reply": "2020-12-14T23:48:18.284163Z"
    },
    "papermill": {
     "duration": 0.025465,
     "end_time": "2020-12-14T23:48:18.284394",
     "exception": false,
     "start_time": "2020-12-14T23:48:18.258929",
     "status": "completed"
    },
    "tags": []
   },
   "outputs": [
    {
     "data": {
      "text/html": [
       "<div>\n",
       "<style scoped>\n",
       "    .dataframe tbody tr th:only-of-type {\n",
       "        vertical-align: middle;\n",
       "    }\n",
       "\n",
       "    .dataframe tbody tr th {\n",
       "        vertical-align: top;\n",
       "    }\n",
       "\n",
       "    .dataframe thead th {\n",
       "        text-align: right;\n",
       "    }\n",
       "</style>\n",
       "<table border=\"1\" class=\"dataframe\">\n",
       "  <thead>\n",
       "    <tr style=\"text-align: right;\">\n",
       "      <th></th>\n",
       "      <th>created</th>\n",
       "      <th>parameters</th>\n",
       "      <th>comment</th>\n",
       "    </tr>\n",
       "    <tr>\n",
       "      <th>uuid</th>\n",
       "      <th></th>\n",
       "      <th></th>\n",
       "      <th></th>\n",
       "    </tr>\n",
       "  </thead>\n",
       "  <tbody>\n",
       "    <tr>\n",
       "      <th>3d1a84bb82b842ec8d32dc7f33e890d4</th>\n",
       "      <td>2020-12-14 23:48:17</td>\n",
       "      <td>{\"mse\": 0.008444000000000002, \"model\": \"Random...</td>\n",
       "      <td>Best performing experiment</td>\n",
       "    </tr>\n",
       "    <tr>\n",
       "      <th>feb6bfbdc11f422db2c66e90467a570f</th>\n",
       "      <td>2020-12-14 23:48:17</td>\n",
       "      <td>{\"mse\": 0.04260034113761788, \"model\": \"LinearR...</td>\n",
       "      <td>None</td>\n",
       "    </tr>\n",
       "    <tr>\n",
       "      <th>b2cd46c95d274bbeb106b04e61d50989</th>\n",
       "      <td>2020-12-14 23:48:17</td>\n",
       "      <td>{\"mse\": 0.4317655183287657, \"model\": \"Lasso\", ...</td>\n",
       "      <td>None</td>\n",
       "    </tr>\n",
       "    <tr>\n",
       "      <th>my_uuid</th>\n",
       "      <td>2020-12-14 23:48:17</td>\n",
       "      <td>{\"mse\": 0.030419125413621413, \"model\": \"SVR\", ...</td>\n",
       "      <td>None</td>\n",
       "    </tr>\n",
       "  </tbody>\n",
       "</table>\n",
       "</div>"
      ],
      "text/plain": [
       "                                              created  \\\n",
       "uuid                                                    \n",
       "3d1a84bb82b842ec8d32dc7f33e890d4  2020-12-14 23:48:17   \n",
       "feb6bfbdc11f422db2c66e90467a570f  2020-12-14 23:48:17   \n",
       "b2cd46c95d274bbeb106b04e61d50989  2020-12-14 23:48:17   \n",
       "my_uuid                           2020-12-14 23:48:17   \n",
       "\n",
       "                                                                         parameters  \\\n",
       "uuid                                                                                  \n",
       "3d1a84bb82b842ec8d32dc7f33e890d4  {\"mse\": 0.008444000000000002, \"model\": \"Random...   \n",
       "feb6bfbdc11f422db2c66e90467a570f  {\"mse\": 0.04260034113761788, \"model\": \"LinearR...   \n",
       "b2cd46c95d274bbeb106b04e61d50989  {\"mse\": 0.4317655183287657, \"model\": \"Lasso\", ...   \n",
       "my_uuid                           {\"mse\": 0.030419125413621413, \"model\": \"SVR\", ...   \n",
       "\n",
       "                                                     comment  \n",
       "uuid                                                          \n",
       "3d1a84bb82b842ec8d32dc7f33e890d4  Best performing experiment  \n",
       "feb6bfbdc11f422db2c66e90467a570f                        None  \n",
       "b2cd46c95d274bbeb106b04e61d50989                        None  \n",
       "my_uuid                                                 None  "
      ]
     },
     "execution_count": 12,
     "metadata": {},
     "output_type": "execute_result"
    }
   ],
   "source": [
    "df = tracker.recent()\n",
    "df"
   ]
  },
  {
   "cell_type": "markdown",
   "metadata": {
    "papermill": {
     "duration": 0.013642,
     "end_time": "2020-12-14T23:48:18.310843",
     "exception": false,
     "start_time": "2020-12-14T23:48:18.297201",
     "status": "completed"
    },
    "tags": []
   },
   "source": [
    "Pass `normalize=True` to convert the nested JSON dictionary into columns:"
   ]
  },
  {
   "cell_type": "code",
   "execution_count": 13,
   "metadata": {
    "execution": {
     "iopub.execute_input": "2020-12-14T23:48:18.341050Z",
     "iopub.status.busy": "2020-12-14T23:48:18.340313Z",
     "iopub.status.idle": "2020-12-14T23:48:18.375421Z",
     "shell.execute_reply": "2020-12-14T23:48:18.376013Z"
    },
    "papermill": {
     "duration": 0.05165,
     "end_time": "2020-12-14T23:48:18.376282",
     "exception": false,
     "start_time": "2020-12-14T23:48:18.324632",
     "status": "completed"
    },
    "tags": []
   },
   "outputs": [
    {
     "data": {
      "text/html": [
       "<div>\n",
       "<style scoped>\n",
       "    .dataframe tbody tr th:only-of-type {\n",
       "        vertical-align: middle;\n",
       "    }\n",
       "\n",
       "    .dataframe tbody tr th {\n",
       "        vertical-align: top;\n",
       "    }\n",
       "\n",
       "    .dataframe thead th {\n",
       "        text-align: right;\n",
       "    }\n",
       "</style>\n",
       "<table border=\"1\" class=\"dataframe\">\n",
       "  <thead>\n",
       "    <tr style=\"text-align: right;\">\n",
       "      <th></th>\n",
       "      <th>created</th>\n",
       "      <th>mse</th>\n",
       "      <th>model</th>\n",
       "      <th>bootstrap</th>\n",
       "      <th>ccp_alpha</th>\n",
       "      <th>criterion</th>\n",
       "      <th>max_depth</th>\n",
       "      <th>max_features</th>\n",
       "      <th>max_leaf_nodes</th>\n",
       "      <th>max_samples</th>\n",
       "      <th>...</th>\n",
       "      <th>tol</th>\n",
       "      <th>C</th>\n",
       "      <th>cache_size</th>\n",
       "      <th>coef0</th>\n",
       "      <th>degree</th>\n",
       "      <th>epsilon</th>\n",
       "      <th>gamma</th>\n",
       "      <th>kernel</th>\n",
       "      <th>shrinking</th>\n",
       "      <th>comment</th>\n",
       "    </tr>\n",
       "    <tr>\n",
       "      <th>uuid</th>\n",
       "      <th></th>\n",
       "      <th></th>\n",
       "      <th></th>\n",
       "      <th></th>\n",
       "      <th></th>\n",
       "      <th></th>\n",
       "      <th></th>\n",
       "      <th></th>\n",
       "      <th></th>\n",
       "      <th></th>\n",
       "      <th></th>\n",
       "      <th></th>\n",
       "      <th></th>\n",
       "      <th></th>\n",
       "      <th></th>\n",
       "      <th></th>\n",
       "      <th></th>\n",
       "      <th></th>\n",
       "      <th></th>\n",
       "      <th></th>\n",
       "      <th></th>\n",
       "    </tr>\n",
       "  </thead>\n",
       "  <tbody>\n",
       "    <tr>\n",
       "      <th>3d1a84bb82b842ec8d32dc7f33e890d4</th>\n",
       "      <td>2020-12-14 23:48:17</td>\n",
       "      <td>0.008444</td>\n",
       "      <td>RandomForestRegressor</td>\n",
       "      <td>True</td>\n",
       "      <td>0.0</td>\n",
       "      <td>mse</td>\n",
       "      <td>NaN</td>\n",
       "      <td>auto</td>\n",
       "      <td>NaN</td>\n",
       "      <td>NaN</td>\n",
       "      <td>...</td>\n",
       "      <td>NaN</td>\n",
       "      <td>NaN</td>\n",
       "      <td>NaN</td>\n",
       "      <td>NaN</td>\n",
       "      <td>NaN</td>\n",
       "      <td>NaN</td>\n",
       "      <td>NaN</td>\n",
       "      <td>NaN</td>\n",
       "      <td>NaN</td>\n",
       "      <td>Best performing experiment</td>\n",
       "    </tr>\n",
       "    <tr>\n",
       "      <th>feb6bfbdc11f422db2c66e90467a570f</th>\n",
       "      <td>2020-12-14 23:48:17</td>\n",
       "      <td>0.042600</td>\n",
       "      <td>LinearRegression</td>\n",
       "      <td>NaN</td>\n",
       "      <td>NaN</td>\n",
       "      <td>NaN</td>\n",
       "      <td>NaN</td>\n",
       "      <td>NaN</td>\n",
       "      <td>NaN</td>\n",
       "      <td>NaN</td>\n",
       "      <td>...</td>\n",
       "      <td>NaN</td>\n",
       "      <td>NaN</td>\n",
       "      <td>NaN</td>\n",
       "      <td>NaN</td>\n",
       "      <td>NaN</td>\n",
       "      <td>NaN</td>\n",
       "      <td>NaN</td>\n",
       "      <td>NaN</td>\n",
       "      <td>NaN</td>\n",
       "      <td>None</td>\n",
       "    </tr>\n",
       "    <tr>\n",
       "      <th>b2cd46c95d274bbeb106b04e61d50989</th>\n",
       "      <td>2020-12-14 23:48:17</td>\n",
       "      <td>0.431766</td>\n",
       "      <td>Lasso</td>\n",
       "      <td>NaN</td>\n",
       "      <td>NaN</td>\n",
       "      <td>NaN</td>\n",
       "      <td>NaN</td>\n",
       "      <td>NaN</td>\n",
       "      <td>NaN</td>\n",
       "      <td>NaN</td>\n",
       "      <td>...</td>\n",
       "      <td>0.0001</td>\n",
       "      <td>NaN</td>\n",
       "      <td>NaN</td>\n",
       "      <td>NaN</td>\n",
       "      <td>NaN</td>\n",
       "      <td>NaN</td>\n",
       "      <td>NaN</td>\n",
       "      <td>NaN</td>\n",
       "      <td>NaN</td>\n",
       "      <td>None</td>\n",
       "    </tr>\n",
       "    <tr>\n",
       "      <th>my_uuid</th>\n",
       "      <td>2020-12-14 23:48:17</td>\n",
       "      <td>0.030419</td>\n",
       "      <td>SVR</td>\n",
       "      <td>NaN</td>\n",
       "      <td>NaN</td>\n",
       "      <td>NaN</td>\n",
       "      <td>NaN</td>\n",
       "      <td>NaN</td>\n",
       "      <td>NaN</td>\n",
       "      <td>NaN</td>\n",
       "      <td>...</td>\n",
       "      <td>0.0010</td>\n",
       "      <td>1.0</td>\n",
       "      <td>200.0</td>\n",
       "      <td>0.0</td>\n",
       "      <td>3.0</td>\n",
       "      <td>0.1</td>\n",
       "      <td>scale</td>\n",
       "      <td>rbf</td>\n",
       "      <td>True</td>\n",
       "      <td>None</td>\n",
       "    </tr>\n",
       "  </tbody>\n",
       "</table>\n",
       "<p>4 rows × 39 columns</p>\n",
       "</div>"
      ],
      "text/plain": [
       "                                              created       mse  \\\n",
       "uuid                                                              \n",
       "3d1a84bb82b842ec8d32dc7f33e890d4  2020-12-14 23:48:17  0.008444   \n",
       "feb6bfbdc11f422db2c66e90467a570f  2020-12-14 23:48:17  0.042600   \n",
       "b2cd46c95d274bbeb106b04e61d50989  2020-12-14 23:48:17  0.431766   \n",
       "my_uuid                           2020-12-14 23:48:17  0.030419   \n",
       "\n",
       "                                                  model bootstrap  ccp_alpha  \\\n",
       "uuid                                                                           \n",
       "3d1a84bb82b842ec8d32dc7f33e890d4  RandomForestRegressor      True        0.0   \n",
       "feb6bfbdc11f422db2c66e90467a570f       LinearRegression       NaN        NaN   \n",
       "b2cd46c95d274bbeb106b04e61d50989                  Lasso       NaN        NaN   \n",
       "my_uuid                                             SVR       NaN        NaN   \n",
       "\n",
       "                                 criterion  max_depth max_features  \\\n",
       "uuid                                                                 \n",
       "3d1a84bb82b842ec8d32dc7f33e890d4       mse        NaN         auto   \n",
       "feb6bfbdc11f422db2c66e90467a570f       NaN        NaN          NaN   \n",
       "b2cd46c95d274bbeb106b04e61d50989       NaN        NaN          NaN   \n",
       "my_uuid                                NaN        NaN          NaN   \n",
       "\n",
       "                                  max_leaf_nodes  max_samples  ...     tol  \\\n",
       "uuid                                                           ...           \n",
       "3d1a84bb82b842ec8d32dc7f33e890d4             NaN          NaN  ...     NaN   \n",
       "feb6bfbdc11f422db2c66e90467a570f             NaN          NaN  ...     NaN   \n",
       "b2cd46c95d274bbeb106b04e61d50989             NaN          NaN  ...  0.0001   \n",
       "my_uuid                                      NaN          NaN  ...  0.0010   \n",
       "\n",
       "                                    C  cache_size  coef0  degree  epsilon  \\\n",
       "uuid                                                                        \n",
       "3d1a84bb82b842ec8d32dc7f33e890d4  NaN         NaN    NaN     NaN      NaN   \n",
       "feb6bfbdc11f422db2c66e90467a570f  NaN         NaN    NaN     NaN      NaN   \n",
       "b2cd46c95d274bbeb106b04e61d50989  NaN         NaN    NaN     NaN      NaN   \n",
       "my_uuid                           1.0       200.0    0.0     3.0      0.1   \n",
       "\n",
       "                                  gamma kernel  shrinking  \\\n",
       "uuid                                                        \n",
       "3d1a84bb82b842ec8d32dc7f33e890d4    NaN    NaN        NaN   \n",
       "feb6bfbdc11f422db2c66e90467a570f    NaN    NaN        NaN   \n",
       "b2cd46c95d274bbeb106b04e61d50989    NaN    NaN        NaN   \n",
       "my_uuid                           scale    rbf       True   \n",
       "\n",
       "                                                     comment  \n",
       "uuid                                                          \n",
       "3d1a84bb82b842ec8d32dc7f33e890d4  Best performing experiment  \n",
       "feb6bfbdc11f422db2c66e90467a570f                        None  \n",
       "b2cd46c95d274bbeb106b04e61d50989                        None  \n",
       "my_uuid                                                 None  \n",
       "\n",
       "[4 rows x 39 columns]"
      ]
     },
     "execution_count": 13,
     "metadata": {},
     "output_type": "execute_result"
    }
   ],
   "source": [
    "df = tracker.recent(normalize=True)\n",
    "df"
   ]
  },
  {
   "cell_type": "code",
   "execution_count": 14,
   "metadata": {
    "execution": {
     "iopub.execute_input": "2020-12-14T23:48:18.408280Z",
     "iopub.status.busy": "2020-12-14T23:48:18.407407Z",
     "iopub.status.idle": "2020-12-14T23:48:18.409771Z",
     "shell.execute_reply": "2020-12-14T23:48:18.410253Z"
    },
    "papermill": {
     "duration": 0.020096,
     "end_time": "2020-12-14T23:48:18.410481",
     "exception": false,
     "start_time": "2020-12-14T23:48:18.390385",
     "status": "completed"
    },
    "tags": []
   },
   "outputs": [],
   "source": [
    "# delete our example database\n",
    "from pathlib import Path\n",
    "Path('my_experiments.db').unlink()"
   ]
  }
 ],
 "metadata": {
  "jupytext": {
   "cell_metadata_filter": "tags,-all",
   "main_language": "python",
   "notebook_metadata_filter": "-all",
   "text_representation": {
    "extension": ".md",
    "format_name": "markdown"
   }
  },
  "kernelspec": {
   "display_name": "Python 3",
   "language": "python",
   "name": "python3"
  },
  "language_info": {
   "codemirror_mode": {
    "name": "ipython",
    "version": 3
   },
   "file_extension": ".py",
   "mimetype": "text/x-python",
   "name": "python",
   "nbconvert_exporter": "python",
   "pygments_lexer": "ipython3",
   "version": "3.7.9"
  },
  "papermill": {
   "default_parameters": {},
   "duration": 3.666652,
   "end_time": "2020-12-14T23:48:18.846046",
   "environment_variables": {},
   "exception": null,
   "input_path": "/var/folders/3h/_lvh_w_x5g30rrjzb_xnn2j80000gq/T/tmpe4gku69u.ipynb",
   "output_path": "source/user_guide/SQLiteTracker.ipynb",
   "parameters": {
    "product": "source/user_guide/SQLiteTracker.ipynb"
   },
   "start_time": "2020-12-14T23:48:15.179394",
   "version": "2.2.2"
  }
 },
 "nbformat": 4,
 "nbformat_minor": 4
}